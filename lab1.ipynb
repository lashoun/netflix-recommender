{
 "cells": [
  {
   "cell_type": "code",
   "execution_count": 1,
   "metadata": {},
   "outputs": [],
   "source": [
    "import numpy as np\n",
    "import matplotlib.pyplot as plt"
   ]
  },
  {
   "cell_type": "markdown",
   "metadata": {},
   "source": [
    "# Rating environment"
   ]
  },
  {
   "cell_type": "code",
   "execution_count": 2,
   "metadata": {},
   "outputs": [],
   "source": [
    "N_FEATURES = 10\n",
    "N_USERS = 5\n",
    "N_MOVIES = 300"
   ]
  },
  {
   "cell_type": "markdown",
   "metadata": {},
   "source": [
    "## Helper functions"
   ]
  },
  {
   "cell_type": "code",
   "execution_count": 3,
   "metadata": {},
   "outputs": [],
   "source": [
    "def generate_users(n_users=N_USERS, n_features=N_FEATURES):\n",
    "    users = np.random.random((n_users, n_features))\n",
    "    for i in range(len(users)):\n",
    "        polarization = np.random.randint(1,20)\n",
    "        users[i] = users[i] ** polarization\n",
    "        users[i][users[i] < 1e-5] = 0\n",
    "    return users"
   ]
  },
  {
   "cell_type": "code",
   "execution_count": 4,
   "metadata": {},
   "outputs": [],
   "source": [
    "def generate_movies(n_movies=N_MOVIES, n_features=N_FEATURES):\n",
    "    movies = np.random.random((n_movies, n_features))\n",
    "    for i in range(len(movies)):\n",
    "        polarization = np.random.randint(1,20)\n",
    "        movies[i] = movies[i] ** polarization\n",
    "        movies[i][movies[i] < 1e-5] = 0\n",
    "    return movies"
   ]
  },
  {
   "cell_type": "code",
   "execution_count": 5,
   "metadata": {},
   "outputs": [],
   "source": [
    "def reward_func(user, movie):\n",
    "    \"\"\"return cosine similarity scaled and shifted between 1 and 5\"\"\"\n",
    "    return np.round(1 + 4 * max(np.dot(user, movie) / (np.linalg.norm(user) * np.linalg.norm(movie))), 0)"
   ]
  },
  {
   "cell_type": "code",
   "execution_count": 6,
   "metadata": {},
   "outputs": [],
   "source": [
    "def get_rewards_matrix(users, movies, reward_f=reward_func):\n",
    "    n_users, n_movies = len(users), len(movies)\n",
    "    res = np.zeros((n_users, n_movies))\n",
    "    for i in range(n_users):\n",
    "        for j in range(n_movies):\n",
    "            res[i][j] = reward_f(users[i], movies[j])\n",
    "    return res"
   ]
  },
  {
   "cell_type": "code",
   "execution_count": 7,
   "metadata": {},
   "outputs": [],
   "source": [
    "def get_available_matrix(n_users, n_movies, history):\n",
    "    res = np.zeros((n_users, n_movies))\n",
    "    for user_idx, hist in enumerate(history):\n",
    "        for movie_idx in hist:\n",
    "            res[user_idx][movie_idx] = 1\n",
    "    return res"
   ]
  },
  {
   "cell_type": "markdown",
   "metadata": {},
   "source": [
    "## Environment"
   ]
  },
  {
   "cell_type": "code",
   "execution_count": 8,
   "metadata": {},
   "outputs": [],
   "source": [
    "class Environment:\n",
    "    \n",
    "    def __init__(self, n_users=N_USERS, n_features=N_FEATURES, n_movies=N_MOVIES, history=None, reward_f=reward_func, seed=None):\n",
    "        self.reset(n_users, n_features, n_movies, history, reward_f, seed)\n",
    "        \n",
    "    def reset(self, n_users=N_USERS, n_features=N_FEATURES, n_movies=N_MOVIES, history=None, reward_f=reward_func, seed=None):\n",
    "        self.rng = np.random.default_rng(seed)\n",
    "        self.n_users = n_users\n",
    "        self.n_features = n_features\n",
    "        self.n_movies = n_movies\n",
    "        self.users = generate_users(n_users, n_features)\n",
    "        self.movies = generate_movies(n_movies, n_features)\n",
    "        self.rewards_matrix = get_rewards_matrix(self.users, self.movies, reward_f)\n",
    "        if history is not None:\n",
    "            self.history = history\n",
    "        else:\n",
    "            self.history = [[] for i in range(N_USERS)]\n",
    "        self.available_matrix = get_available_matrix(self.n_users, self.n_movies, self.history)\n",
    "    \n",
    "    def get_reward(self, user_idx, movie_idx):\n",
    "        reward = self.rewards_matrix[user_idx][movie_idx]\n",
    "        self.update_history(user_idx, movie_idx)\n",
    "        return reward\n",
    "    \n",
    "    def get_next_step(self):\n",
    "        user_idx = self.rng.choice(self.n_users)\n",
    "        hist = self.available_matrix[user_idx]\n",
    "        available = hist[hist > 0]\n",
    "        self.rng.shuffle(available)\n",
    "        context = available[:10]\n",
    "        return user_idx, available\n",
    "    \n",
    "    def update_history(self, user_idx, movie_idx):\n",
    "        self.history[user_idx].append(movie_idx)\n",
    "        self.available_matrix[user_idx][movie_idx] = 1"
   ]
  },
  {
   "cell_type": "markdown",
   "metadata": {},
   "source": [
    "## Agents"
   ]
  },
  {
   "cell_type": "code",
   "execution_count": 9,
   "metadata": {},
   "outputs": [],
   "source": [
    "class RandomAgent:\n",
    "    \n",
    "    def __init__(self, n_users=N_USERS, n_features=N_FEATURES, n_movies=N_MOVIES, seed=None):\n",
    "        \n",
    "        self.n_users = n_users\n",
    "        self.n_features = n_features\n",
    "        self.n_movies = n_movies\n",
    "        \n",
    "        self.rng = np.random.default_rng(seed)\n",
    "    \n",
    "    def recommend(self, user_idx):\n",
    "        return self.rng.choice(self.n_movies)"
   ]
  },
  {
   "cell_type": "code",
   "execution_count": 10,
   "metadata": {},
   "outputs": [],
   "source": [
    "class GDAgent:\n",
    "    \n",
    "    def __init__(self, n_users=N_USERS, n_features=N_FEATURES, n_movies=N_MOVIES, seed=None):\n",
    "        \n",
    "        self.n_users = n_users\n",
    "        self.n_features = n_features\n",
    "        self.n_movies = n_movies\n",
    "        \n",
    "        self.users = np.ones((n_users, n_features))\n",
    "        self.movies = np.ones((n_movies, n_features))\n",
    "        \n",
    "        self.rng = np.random.default_rng(seed)\n",
    "    \n",
    "    def recommend(self, user_idx):\n",
    "        return self.rng.choice(self.n_movies)"
   ]
  },
  {
   "cell_type": "code",
   "execution_count": 253,
   "metadata": {},
   "outputs": [],
   "source": [
    "env = Environment()\n",
    "agent = RandomAgent()"
   ]
  },
  {
   "cell_type": "code",
   "execution_count": 254,
   "metadata": {},
   "outputs": [],
   "source": [
    "for i in range(50):\n",
    "    user_idx, context = env.get_next_step()\n",
    "    movie_idx = agent.recommend(user_idx)\n",
    "    env.update_history(user_idx, movie_idx)"
   ]
  },
  {
   "cell_type": "code",
   "execution_count": 255,
   "metadata": {},
   "outputs": [
    {
     "data": {
      "text/plain": [
       "[[269, 284, 295, 241, 42, 135, 180, 53],\n",
       " [72, 215, 194, 268, 158, 265, 19, 49, 42],\n",
       " [64, 162, 254, 116, 189, 147, 63, 90, 120, 229, 170, 40],\n",
       " [19, 285, 38, 67, 52, 268, 57, 26, 249, 24, 235],\n",
       " [24, 185, 136, 205, 202, 259, 217, 43, 199, 79]]"
      ]
     },
     "execution_count": 255,
     "metadata": {},
     "output_type": "execute_result"
    }
   ],
   "source": [
    "env.history"
   ]
  }
 ],
 "metadata": {
  "jupytext": {
   "formats": "ipynb,py:percent"
  },
  "kernelspec": {
   "display_name": "Python 3",
   "language": "python",
   "name": "python3"
  },
  "language_info": {
   "codemirror_mode": {
    "name": "ipython",
    "version": 3
   },
   "file_extension": ".py",
   "mimetype": "text/x-python",
   "name": "python",
   "nbconvert_exporter": "python",
   "pygments_lexer": "ipython3",
   "version": "3.7.5"
  }
 },
 "nbformat": 4,
 "nbformat_minor": 4
}
