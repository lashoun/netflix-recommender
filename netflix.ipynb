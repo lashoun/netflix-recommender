{
  "nbformat": 4,
  "nbformat_minor": 0,
  "metadata": {
    "jupytext": {
      "formats": "ipynb,py:percent"
    },
    "kernelspec": {
      "name": "python3",
      "display_name": "Python 3"
    },
    "language_info": {
      "codemirror_mode": {
        "name": "ipython",
        "version": 3
      },
      "file_extension": ".py",
      "mimetype": "text/x-python",
      "name": "python",
      "nbconvert_exporter": "python",
      "pygments_lexer": "ipython3",
      "version": "3.7.5"
    },
    "colab": {
      "name": "netflix.ipynb",
      "provenance": [],
      "collapsed_sections": []
    }
  },
  "cells": [
    {
      "cell_type": "code",
      "metadata": {
        "id": "o4neCGd7DqXz",
        "colab_type": "code",
        "colab": {}
      },
      "source": [
        "import numpy as np\n",
        "import matplotlib.pyplot as plt\n",
        "%tensorflow_version 2.x\n",
        "import tensorflow as tf\n",
        "from tensorflow.keras import layers\n",
        "from tensorflow.keras.models import Model\n",
        "from tensorflow.keras.layers import Embedding, Flatten, Input, Dense\n",
        "from tensorflow.keras.layers import Lambda, Dot\n",
        "from tensorflow.keras.regularizers import l2"
      ],
      "execution_count": 0,
      "outputs": []
    },
    {
      "cell_type": "markdown",
      "metadata": {
        "id": "1eB-ktQzDqYI",
        "colab_type": "text"
      },
      "source": [
        "# Rating environment"
      ]
    },
    {
      "cell_type": "code",
      "metadata": {
        "id": "PzO6-BD7DqYR",
        "colab_type": "code",
        "colab": {}
      },
      "source": [
        "N_FEATURES = 10\n",
        "N_USERS = 20\n",
        "N_MOVIES = 100\n",
        "MAX_USERS = 300\n",
        "MAX_MOVIES = 1000\n",
        "\n",
        "# https://www.desmos.com/calculator/ftbdppvm03"
      ],
      "execution_count": 0,
      "outputs": []
    },
    {
      "cell_type": "markdown",
      "metadata": {
        "id": "EAyttGzdDqYd",
        "colab_type": "text"
      },
      "source": [
        "## Helper functions"
      ]
    },
    {
      "cell_type": "code",
      "metadata": {
        "id": "KS_9sgLkDqYg",
        "colab_type": "code",
        "colab": {}
      },
      "source": [
        "def generate_data(n_samples, n_features, rng=np.random.default_rng(), scheme=\"gauss\", n_means=10, means_pol=5, pol=5, pol_threshold=1e-5):\n",
        "    if scheme == \"gauss\":\n",
        "        means = 2 * np.random.random((n_means, n_features)) - 1\n",
        "        old_norms = np.linalg.norm(means, axis=1)\n",
        "        for i in range(len(means)):\n",
        "            means[i] = np.sign(means[i]) * np.abs(means[i]) ** means_pol\n",
        "            means[i][np.abs(means[i]) < pol_threshold] = 0\n",
        "        new_norms = np.linalg.norm(means, axis=1)\n",
        "        for i in range(len(means)):\n",
        "            means[i] *= old_norms[i] / new_norms[i]\n",
        "        data = np.zeros((n_samples, n_features))\n",
        "        batch_size = n_samples // n_means\n",
        "        for i in range(n_means):\n",
        "            data[batch_size*i:batch_size*(i+1)] = rng.multivariate_normal(means[i], np.identity(n_features)/n_features, batch_size)\n",
        "        return means, data\n",
        "\n",
        "    elif scheme == \"polarized\":\n",
        "        data = 2 * rng.random((n_samples, n_features)) - 1\n",
        "        for i in range(len(data)):\n",
        "            polarization = rng.choice(pol-2) + 2\n",
        "            data[i] = np.sign(data[i]) * np.abs(data[i]) ** polarization\n",
        "            data[i][np.abs(data[i]) < pol_threshold] = 0\n",
        "        return data\n",
        "    else:\n",
        "        raise ValueError(\"unknown scheme\")\n",
        "\n",
        "def cosine_similarity(user, movie):\n",
        "    return np.dot(user, movie) / (np.linalg.norm(user) * np.linalg.norm(movie))\n",
        "\n",
        "def reward_func(user, movie):\n",
        "    \"\"\"return cosine similarity somewhat polarized, then scaled and shifted between 0 and 5\"\"\"\n",
        "    x = cosine_similarity(user, movie)\n",
        "    if x == -1:\n",
        "        return -1\n",
        "    x = 0.5 * (x + 1)\n",
        "    x = 1 / (1 + (((1-x)/x)**1.5))\n",
        "    return x * 2 - 1\n",
        "\n",
        "def get_rewards_matrix(users, movies, reward_f=reward_func):\n",
        "    n_users, n_movies = len(users), len(movies)\n",
        "    res = np.zeros((n_users, n_movies))\n",
        "    for i in range(n_users):\n",
        "        for j in range(n_movies):\n",
        "            res[i][j] = reward_f(users[i], movies[j])\n",
        "    return res\n",
        "\n",
        "def get_seen_matrix(n_users, n_movies, history):\n",
        "    res = np.zeros((n_users, n_movies))\n",
        "    for user_idx, movie_idx in history:\n",
        "        res[user_idx][movie_idx] = 1\n",
        "    return res"
      ],
      "execution_count": 0,
      "outputs": []
    },
    {
      "cell_type": "code",
      "metadata": {
        "id": "MVHN94WTa-29",
        "colab_type": "code",
        "colab": {}
      },
      "source": [
        "# means, movies = generate_data(50, 10, rng=np.random.default_rng(), scheme=\"gauss\", n_means=5, means_pol=5, pol=20, pol_threshold=1e-5)\n",
        "# users = generate_data(10, 10, rng=np.random.default_rng(), scheme=\"polarized\", n_means=2, means_pol=5, pol=20, pol_threshold=1e-5)"
      ],
      "execution_count": 0,
      "outputs": []
    },
    {
      "cell_type": "code",
      "metadata": {
        "id": "lgIpAGrycWcL",
        "colab_type": "code",
        "colab": {}
      },
      "source": [
        "# np.array([[reward_func(m, u) for m in means] for u in users])"
      ],
      "execution_count": 0,
      "outputs": []
    },
    {
      "cell_type": "markdown",
      "metadata": {
        "id": "VUaOmepxDqZQ",
        "colab_type": "text"
      },
      "source": [
        "## Environment"
      ]
    },
    {
      "cell_type": "code",
      "metadata": {
        "id": "pNEeRuIlDqZW",
        "colab_type": "code",
        "colab": {}
      },
      "source": [
        "class Environment:\n",
        "    \n",
        "    def __init__(self, \n",
        "                 n_features=N_FEATURES, \n",
        "                 max_users=MAX_USERS,\n",
        "                 max_movies=MAX_MOVIES,\n",
        "                 n_users=N_USERS, \n",
        "                 n_movies=N_MOVIES,\n",
        "                 history=None, \n",
        "                 reward_f=reward_func, \n",
        "                 context_size=10,\n",
        "                 a=0.05,\n",
        "                 b=0.025,\n",
        "                 c=3,\n",
        "                 d=0,\n",
        "                 quit_prob_init=0.05,\n",
        "                 subscription_rate=20,\n",
        "                 movie_change_rate=1,\n",
        "                 remove_movie_definitely=False,\n",
        "                 seed=None):\n",
        "      \n",
        "        self.reset(n_features=n_features, max_users=max_users, \n",
        "                   max_movies=max_movies, n_users=n_users, n_movies=n_movies, \n",
        "                   history=history, reward_f=reward_f, \n",
        "                   context_size=context_size, a=a, b=b, c=c, d=d, \n",
        "                   quit_prob_init=quit_prob_init, \n",
        "                   subscription_rate=subscription_rate, \n",
        "                   movie_change_rate=movie_change_rate, \n",
        "                   remove_movie_definitely=remove_movie_definitely,\n",
        "                   seed=seed)\n",
        "        \n",
        "    def reset(self, n_features=N_FEATURES, max_users=MAX_USERS, \n",
        "              max_movies=MAX_MOVIES, n_users=N_USERS, n_movies=N_MOVIES, \n",
        "              history=None, reward_f=reward_func, context_size=10, \n",
        "              a=0.05, b=0.025, c=3, d=0, quit_prob_init=0.05, \n",
        "              subscription_rate=20, movie_change_rate=1,\n",
        "              remove_movie_definitely=False, seed=None):\n",
        "        \n",
        "        self.n_features = n_features\n",
        "        self.max_users = max_users\n",
        "        self.max_movies = max_movies\n",
        "        self.n_users = n_users\n",
        "        self.optimal_users = n_users\n",
        "        self.n_movies = n_movies\n",
        "        self.context_size = context_size\n",
        "        self.quit_prob_init = quit_prob_init\n",
        "        self.subscription_rate = subscription_rate\n",
        "        self.rng = np.random.default_rng(seed)\n",
        "        self.movie_change_rate = movie_change_rate\n",
        "        self.remove_movie_definitely = remove_movie_definitely\n",
        "\n",
        "        self.users = generate_data(max_users, n_features, self.rng, scheme=\"polarized\")\n",
        "        self.means, self.movies = generate_data(max_movies, n_features, self.rng, scheme=\"gauss\")\n",
        "        self.movies_with_noise = self.movies + self.rng.normal(0, 0.01, self.movies.shape)\n",
        "        self.rewards_matrix = get_rewards_matrix(self.users, self.movies, reward_f)\n",
        "        self.status_users = np.zeros(max_users)\n",
        "        self.status_movies = np.zeros(max_movies)\n",
        "        self.quit_probabilities = np.zeros(max_users) + quit_prob_init\n",
        "        self.init_status()\n",
        "\n",
        "        self.get_update_prob_coeff = lambda x : -a / (1 + np.exp(-(c*x-d))) + b\n",
        "        self.history = [] if history is None else history\n",
        "        self.seen_matrix = get_seen_matrix(self.max_users, self.max_movies, self.history)\n",
        "        self.step_count_tracker = 0\n",
        "    \n",
        "    def add_movie(self, movie_idx=None):\n",
        "        if movie_idx is None:\n",
        "            not_airing = np.nonzero(self.status_movies == 0)[0]\n",
        "            n = len(not_airing)\n",
        "            if n > 0:\n",
        "                self.status_movies[not_airing[self.rng.choice(n)]] = 1\n",
        "        else:\n",
        "            assert self.status_movies[movie_idx] == 0, \"trying to add a movie which is already airing\"\n",
        "            self.status_movies[movie_idx] = 1\n",
        "        self.n_movies += 1\n",
        "\n",
        "    def add_user(self, user_idx=None):\n",
        "        if user_idx is None:\n",
        "            not_subscribed = np.nonzero(self.status_users == 0)[0]\n",
        "            n = len(not_subscribed)\n",
        "            if n > 0:\n",
        "                user_idx = not_subscribed[self.rng.choice(n)]\n",
        "                self.status_users[user_idx] = 1\n",
        "                self.quit_probabilities[user_idx] = self.quit_prob_init\n",
        "        else:\n",
        "            assert self.status_users[user_idx] == 0, \"trying to add a user which is already subscribed\"\n",
        "            self.status_users[user_idx] = 1\n",
        "            self.quit_probabilities[user_idx] = self.quit_prob_init\n",
        "        self.n_users += 1\n",
        "        self.optimal_users += 1\n",
        "\n",
        "    def get_best_movie(self, user_idx, context):\n",
        "        \"\"\"for implicit feedback training\"\"\"\n",
        "        rewards = [self.rewards_matrix[user_idx][m_idx] for m_idx in context]\n",
        "        best_movie = context[np.argmax(rewards)]\n",
        "        return best_movie\n",
        "\n",
        "    def get_reward(self, user_idx, movie_idx, context, should_update=True):\n",
        "        \"\"\"returns a binary reward\"\"\"\n",
        "        \n",
        "        reward = self.rewards_matrix[user_idx][movie_idx]\n",
        "        \n",
        "        # keep best choice consequences for regret computations\n",
        "        best_reward = np.max([self.rewards_matrix[user_idx][m_idx] for m_idx in context])\n",
        "        optimal_quit_prob = self.quit_probabilities[user_idx] + self.get_update_prob_coeff(best_reward)\n",
        "        optimal_quit_prob = max(0, min(1, optimal_quit_prob))\n",
        "        if should_update:\n",
        "            self.optimal_users -= optimal_quit_prob\n",
        "            self.update_probability(user_idx, reward)\n",
        "            self.update_quit(user_idx)\n",
        "\n",
        "        self.update_history(user_idx, movie_idx, reward, best_reward, self.n_users, self.optimal_users, context)\n",
        "\n",
        "        return 1 if reward > 0 else -1\n",
        "    \n",
        "    def get_next_step(self, should_update=True):\n",
        "        self.step_count_tracker += 1\n",
        "        if self.step_count_tracker % self.movie_change_rate == 0:\n",
        "            env.add_movie()\n",
        "            env.remove_movie(definitely=self.remove_movie_definitely)\n",
        "        if should_update and self.step_count_tracker % self.subscription_rate == 0:\n",
        "            self.add_user()\n",
        "        subscribed_users = np.nonzero(self.status_users == 1)[0]\n",
        "        if len(subscribed_users) == 0:\n",
        "            return -2, None\n",
        "        else:\n",
        "            user_permutation = self.rng.permutation(subscribed_users)\n",
        "            for user_idx in user_permutation:  # try until you can suggest a movie to a user\n",
        "                seen_movies = np.nonzero(self.seen_matrix[user_idx])[0]\n",
        "                airing_movies = np.nonzero(self.status_movies)[0]\n",
        "                available_movies = list(set(airing_movies) - set(seen_movies))\n",
        "                if len(available_movies) > 0:\n",
        "                    self.rng.shuffle(available_movies)\n",
        "                    context = available_movies[:self.context_size]\n",
        "                    return user_idx, context\n",
        "        # if the users have seen all the movies that are airing\n",
        "            return -1, None\n",
        "    \n",
        "    def init_status(self):\n",
        "        users_init = self.rng.choice(self.max_users, self.n_users, replace=False)\n",
        "        movies_init = self.rng.choice(self.max_movies, self.n_movies, replace=False)\n",
        "        self.status_users[users_init] = 1\n",
        "        self.status_movies[movies_init] = 1\n",
        "\n",
        "    def remove_movie(self, movie_idx=None, definitely=True):\n",
        "        new_status = -1 if definitely else 0  # -1 if definitely else 0\n",
        "        if movie_idx is None:\n",
        "            airing = np.nonzero(self.status_movies == 1)[0]\n",
        "            n = len(airing)\n",
        "            if n > 0:\n",
        "                self.status_movies[airing[self.rng.choice(n)]] = new_status\n",
        "        else:\n",
        "            assert self.status_movies[movie_idx] == 1, \"trying to remove a movie which is not airing\"\n",
        "            self.status_movies[movie_idx] = new_status\n",
        "        self.n_movies -= 1\n",
        "\n",
        "    def remove_user(self, user_idx=None, definitely=True):\n",
        "        new_status = -1 if definitely else 0  # -1 if definitely else 0\n",
        "        if user_idx is None:\n",
        "            subscribed = np.nonzero(self.status_users == 1)[0]\n",
        "            n = len(subscribed)\n",
        "            if n > 0:\n",
        "                self.status_users[subscribed[self.rng.choice(n)]] = new_status\n",
        "        else:\n",
        "            assert self.status_users[user_idx] == 1, \"trying to remove a user which is not subscribed\"\n",
        "            self.status_users[user_idx] = new_status\n",
        "        self.n_users -= 1\n",
        "\n",
        "    def update_history(self, user_idx, movie_idx, reward, best_reward, n_users, optimal_users, context):\n",
        "        self.history.append((user_idx, movie_idx, reward, best_reward, n_users, optimal_users, context))\n",
        "        self.seen_matrix[user_idx][movie_idx] = 1\n",
        "\n",
        "    def update_probability(self, user_idx, reward):\n",
        "        self.quit_probabilities[user_idx] += self.get_update_prob_coeff(reward)\n",
        "        self.quit_probabilities[user_idx] = max(0, min(1, self.quit_probabilities[user_idx]))\n",
        "    \n",
        "    def update_quit(self, user_idx):\n",
        "      \"\"\"updates the available users list by generating either 0 (not quit) or (1 quit) using the probability that the user will quit\"\"\"\n",
        "      will_quit = self.rng.binomial(1, self.quit_probabilities[user_idx])\n",
        "      if will_quit:\n",
        "        self.remove_user(user_idx)"
      ],
      "execution_count": 0,
      "outputs": []
    },
    {
      "cell_type": "markdown",
      "metadata": {
        "id": "5kyXsxHSDqZe",
        "colab_type": "text"
      },
      "source": [
        "## Agents"
      ]
    },
    {
      "cell_type": "code",
      "metadata": {
        "id": "VwDh2XnFDqZg",
        "colab_type": "code",
        "colab": {}
      },
      "source": [
        "class RandomAgent:\n",
        "    \n",
        "    def __init__(self, seed=None):\n",
        "        self.rng = np.random.default_rng(seed)\n",
        "        self.agent_history = []\n",
        "    \n",
        "    def recommend(self, user_idx, context):\n",
        "        return context[self.rng.choice(len(context))]\n",
        "\n",
        "    def update_history(self, user_idx, movie_idx, reward, context):\n",
        "        self.agent_history.append([user_idx, movie_idx, reward, context])"
      ],
      "execution_count": 0,
      "outputs": []
    },
    {
      "cell_type": "code",
      "metadata": {
        "id": "sjRz8eljTlaN",
        "colab_type": "code",
        "colab": {}
      },
      "source": [
        "class EpsilonGreedyAgent:\n",
        "    \"\"\" Epsilon greedy agent. \"\"\"\n",
        "\n",
        "    def __init__(self, \n",
        "                 movies_with_noise,\n",
        "                 at_start_exploration_iters=10, \n",
        "                 lr=.1, \n",
        "                 epsilon=0,\n",
        "                 seed=None):\n",
        "        self._movies_with_noise = movies_with_noise\n",
        "        self.at_start_exploration_iters = at_start_exploration_iters\n",
        "        self._epsilon = epsilon\n",
        "        self._rng = np.random.default_rng(seed)\n",
        "        self.agent_history = []\n",
        "        \n",
        "    def recommend(self, user_idx, context):\n",
        "        if(len(self.agent_history) < self.at_start_exploration_iters) or self._rng.random() < self._epsilon: # exploration at start and building some history\n",
        "          recommended_movie = context[self._rng.choice(len(context))]\n",
        "        else: # maxing based on similarity with the already known movies\n",
        "        # checking if the user already has noted a movie:\n",
        "            already_rated_users = [h[0] for h in self.agent_history]\n",
        "            if user_idx in already_rated_users: # if the user already exists\n",
        "                user_movies = [h for h in self.agent_history if h[0] == user_idx]\n",
        "                self._rng.shuffle(user_movies)\n",
        "                best_reward = np.argmax([x[2] for x in user_movies])\n",
        "                best_movie_idx = user_movies[best_reward][1]\n",
        "                reward_pred = self.similarities(best_movie_idx, context)\n",
        "                recommended_movie = context[np.argmax(reward_pred)]  # the action is the index of the chosen movie\n",
        "            else: # if we don't know anything yet about the user we select randomly\n",
        "                recommended_movie = context[self._rng.choice(len(context))]\n",
        "        return recommended_movie\n",
        "\n",
        "    def similarities(self, best_movie_idx, context):\n",
        "      return [self.similarity(self._movies_with_noise[best_movie_idx], self._movies_with_noise[movie_idx]) for movie_idx in context]\n",
        "\n",
        "    def similarity(self, item1, item2):\n",
        "      return np.dot(item1, item2) / (np.linalg.norm(item1) * np.linalg.norm(item2))\n",
        "    \n",
        "    def update_history(self, user_idx, movie_idx, reward, context):\n",
        "        \"\"\" updating history for the future decisions of the agent \"\"\"\n",
        "        self.agent_history.append([user_idx, movie_idx, reward, context])"
      ],
      "execution_count": 0,
      "outputs": []
    },
    {
      "cell_type": "code",
      "metadata": {
        "id": "omVJqRKAUt93",
        "colab_type": "code",
        "colab": {}
      },
      "source": [
        "def identity_loss(y_true, y_pred):\n",
        "    \"\"\"Ignore y_true and return the mean of y_pred    \n",
        "    This is a hack to work-around the design of the Keras API that is\n",
        "    not really suited to train networks with a triplet loss by default.\n",
        "    \"\"\"\n",
        "    return tf.reduce_mean(y_pred)\n",
        "\n",
        "class MarginLoss(layers.Layer):\n",
        "\n",
        "    def __init__(self, margin=1.):\n",
        "        super().__init__()\n",
        "        self.margin = margin\n",
        "        \n",
        "    def call(self, inputs):\n",
        "        pos_pair_similarity = inputs[0]\n",
        "        neg_pair_similarity = inputs[1]\n",
        "        \n",
        "        diff = neg_pair_similarity - pos_pair_similarity\n",
        "        return tf.maximum(diff + self.margin, 0.)\n",
        "    \n",
        "class TripletModel(Model):\n",
        "    def __init__(self, n_users, n_items, latent_dim=32,\n",
        "                 l2_reg=None, margin=1.):\n",
        "        super().__init__(name=\"TripletModel\")\n",
        "        \n",
        "        self.margin = margin\n",
        "        \n",
        "        l2_reg = None if l2_reg == 0 else l2(l2_reg)\n",
        "\n",
        "        self.user_layer = Embedding(n_users, latent_dim,\n",
        "                                    input_length=1,\n",
        "                                    input_shape=(1,),\n",
        "                                    name='user_embedding',\n",
        "                                    embeddings_regularizer=l2_reg)\n",
        "    \n",
        "        # The following embedding parameters will be shared to\n",
        "        # encode both the positive and negative items.\n",
        "        self.item_layer = Embedding(n_items, latent_dim,\n",
        "                                    input_length=1,\n",
        "                                    name=\"item_embedding\",\n",
        "                                    embeddings_regularizer=l2_reg)\n",
        "        \n",
        "        # The 2 following layers are without parameters, and can\n",
        "        # therefore be used for both positive and negative items.\n",
        "        self.flatten = Flatten()\n",
        "        self.dot = Dot(axes=1, normalize=True)\n",
        "        self.margin_loss = MarginLoss(margin)\n",
        "        \n",
        "    def call(self, inputs, training=False):\n",
        "        user_input = inputs[0]\n",
        "        pos_item_input = inputs[1]\n",
        "        neg_item_input = inputs[2]\n",
        "        \n",
        "        user_embedding = self.user_layer(user_input)\n",
        "        user_embedding = self.flatten(user_embedding)\n",
        "        \n",
        "        pos_item_embedding = self.item_layer(pos_item_input)\n",
        "        pos_item_embedding = self.flatten(pos_item_embedding)\n",
        "        \n",
        "        neg_item_embedding = self.item_layer(neg_item_input)\n",
        "        neg_item_embedding = self.flatten(neg_item_embedding)\n",
        "        \n",
        "        # Similarity computation between embeddings\n",
        "        pos_similarity = self.dot([user_embedding, pos_item_embedding])\n",
        "        neg_similarity = self.dot([user_embedding, neg_item_embedding])\n",
        "                \n",
        "        return self.margin_loss([pos_similarity, neg_similarity])\n",
        "    "
      ],
      "execution_count": 0,
      "outputs": []
    },
    {
      "cell_type": "code",
      "metadata": {
        "id": "VGfz2qJ6rfnz",
        "colab_type": "code",
        "colab": {}
      },
      "source": [
        "class DLAgent():\n",
        "    def __init__(self, model, update_freq=20, train_epochs=10):\n",
        "        self.x_train = []\n",
        "        self.model = model\n",
        "        self.update_freq = update_freq\n",
        "\n",
        "        self.train_epochs = train_epochs\n",
        "        self.current_triplet = None\n",
        "        self.time = 0\n",
        "\n",
        "    def recommend(self, user_idx, context):\n",
        "        # since the model takes as input a triplet we will generate the triplets from the context(available movies indices)\n",
        "        triplets = [[user_idx, pos_movie, neg_movie] for pos_movie in context for neg_movie in context if neg_movie != pos_movie]\n",
        "        triplets = np.asarray(triplets).T.tolist()\n",
        "        triplets[0] = np.asarray(triplets[0])\n",
        "        triplets[1] = np.asarray(triplets[1])\n",
        "        triplets[2] = np.asarray(triplets[2])\n",
        "        pred_rewards = self.model.predict(triplets)\n",
        "        index = np.argmax(pred_rewards)\n",
        "        self.current_triplet = [triplets[0][index], triplets[1][index], triplets[2][index]]\n",
        "        return triplets[1][index]\n",
        "\n",
        "    def update_history(self, user_idx, movie_idx, reward, context):\n",
        "        \"\"\" updating history for the future decisions of the agent \"\"\"\n",
        "        self.time += 1\n",
        "        self.x_train.append(self.current_triplet)\n",
        "        if self.time % self.update_freq == 0:\n",
        "            x_train = np.asarray(self.x_train).T.tolist()\n",
        "            x_train[0] = np.asarray(x_train[0])\n",
        "            x_train[1] = np.asarray(x_train[1])\n",
        "            x_train[2] = np.asarray(x_train[2])\n",
        "            self.model.fit(x_train, np.zeros_like(x_train[0]), shuffle=True,\n",
        "                           epochs=self.train_epochs, verbose=False)"
      ],
      "execution_count": 0,
      "outputs": []
    },
    {
      "cell_type": "code",
      "metadata": {
        "id": "yiVkTB9ylo6d",
        "colab_type": "code",
        "colab": {}
      },
      "source": [
        "def get_training_data(env, train_horizon=2000, should_reset=True, seed=None):\n",
        "    \"\"\"generates data to trail the model of the DL agent \"\"\"\n",
        "    if should_reset:\n",
        "        env.reset(seed=seed)\n",
        "    x_train = []\n",
        "    y_train = []\n",
        "    for i in range(train_horizon):\n",
        "        user_idx, context = env.get_next_step(should_update=False)\n",
        "        if user_idx == -2:\n",
        "            break\n",
        "        elif user_idx != -1:\n",
        "            movie_idx = env.get_best_movie(user_idx, context)\n",
        "            reward = env.get_reward(user_idx, movie_idx, context, should_update=False)\n",
        "            for neg_movie in context:\n",
        "                if neg_movie != movie_idx:\n",
        "                    x_train.append([user_idx, movie_idx, neg_movie])\n",
        "                    y_train.append(reward)\n",
        "    x_train = np.asarray(x_train).T.tolist()\n",
        "    x_train[0] = np.asarray(x_train[0])\n",
        "    x_train[1] = np.asarray(x_train[1])\n",
        "    x_train[2] = np.asarray(x_train[2])\n",
        "    return x_train, np.asarray(y_train)"
      ],
      "execution_count": 0,
      "outputs": []
    },
    {
      "cell_type": "code",
      "metadata": {
        "id": "NSgFbyICDqZ1",
        "colab_type": "code",
        "colab": {}
      },
      "source": [
        "env = Environment(seed=42)"
      ],
      "execution_count": 0,
      "outputs": []
    },
    {
      "cell_type": "code",
      "metadata": {
        "id": "gpbUS4rna2Ia",
        "colab_type": "code",
        "colab": {}
      },
      "source": [
        "def run_exp(env, agent_type=\"random\", horizon=1000, should_reset=True, seed=None, \n",
        "            batch_size=64, epochs=10, update_freq=100):\n",
        "    if should_reset:\n",
        "        env.reset(seed=seed)\n",
        "    if agent_type == \"Random\":\n",
        "        agent = RandomAgent(seed=seed)\n",
        "    elif agent_type == \"EG\":\n",
        "        agent = EpsilonGreedyAgent(env.movies_with_noise, seed=seed)\n",
        "    elif agent_type == \"DL\":\n",
        "        triplet_model = TripletModel(n_users=MAX_USERS, n_items=MAX_MOVIES,\n",
        "                                     latent_dim=64, l2_reg=1e-6)\n",
        "        triplet_model.compile(loss=identity_loss, optimizer=\"adam\")\n",
        "        x_train, y_train = get_training_data(env, seed=seed)\n",
        "        triplet_model.fit(x=x_train, y=y_train, shuffle=True,\n",
        "                        batch_size=batch_size, epochs=epochs)\n",
        "        agent = DLAgent(model=triplet_model, update_freq=update_freq)\n",
        "    else:\n",
        "        raise ValueError(\"agent_type unknown\")\n",
        "    for i in range(horizon):\n",
        "        user_idx, context = env.get_next_step()\n",
        "        if user_idx == -2:\n",
        "            break\n",
        "        elif user_idx != -1:\n",
        "            movie_idx = agent.recommend(user_idx, context)\n",
        "            reward = env.get_reward(user_idx, movie_idx, context)\n",
        "            agent.update_history(user_idx, movie_idx, reward, context)\n",
        "    n_users = [h[4] for h in env.history[-horizon:]]\n",
        "    optimal_users = [h[5] for h in env.history[-horizon:]]\n",
        "    cum_regrets = [h[5] - h[4] for h in env.history[-horizon:]]\n",
        "    return cum_regrets, n_users, optimal_users, env.history"
      ],
      "execution_count": 0,
      "outputs": []
    },
    {
      "cell_type": "code",
      "metadata": {
        "id": "sAq_36bnQ0m8",
        "colab_type": "code",
        "colab": {}
      },
      "source": [
        "def run_multiple_exp(n_tests, env, agent_type=\"random\", horizon=1000, should_reset=True, seed=None, \n",
        "                     batch_size=64, epochs=10, update_freq=20):\n",
        "    cum_regrets_array = np.zeros((n_tests, horizon))\n",
        "    n_users_array = np.zeros((n_tests, horizon))\n",
        "    optimal_users_array = np.zeros((n_tests, horizon))\n",
        "    for i in range(n_tests):\n",
        "        print(\"Exp {}\".format(i))\n",
        "        cum_regrets_array[i], n_users_array[i], optimal_users_array[i], _ = \\\n",
        "            run_exp(env, agent_type, horizon, should_reset, seed+i)  # seed incremented at each run\n",
        "    return cum_regrets_array, n_users_array, optimal_users_array,"
      ],
      "execution_count": 0,
      "outputs": []
    },
    {
      "cell_type": "code",
      "metadata": {
        "id": "pvvNb16mgiYs",
        "colab_type": "code",
        "colab": {
          "base_uri": "https://localhost:8080/",
          "height": 191
        },
        "outputId": "f2af7e45-4efc-432a-c6c2-9fee83398bd0"
      },
      "source": [
        "cum_regretsRandom, n_usersRandom, optimal_usersRandom = run_multiple_exp(10, env, agent_type=\"Random\", horizon=1000, seed=42)"
      ],
      "execution_count": 72,
      "outputs": [
        {
          "output_type": "stream",
          "text": [
            "Exp 0\n",
            "Exp 1\n",
            "Exp 2\n",
            "Exp 3\n",
            "Exp 4\n",
            "Exp 5\n",
            "Exp 6\n",
            "Exp 7\n",
            "Exp 8\n",
            "Exp 9\n"
          ],
          "name": "stdout"
        }
      ]
    },
    {
      "cell_type": "code",
      "metadata": {
        "id": "hx3oaOvxSFEo",
        "colab_type": "code",
        "colab": {
          "base_uri": "https://localhost:8080/",
          "height": 191
        },
        "outputId": "c5643bf8-e022-45f8-bf39-5bb5699f261d"
      },
      "source": [
        "cum_regretsEG, n_usersEG, optimal_usersEG = run_multiple_exp(10, env, agent_type=\"EG\", horizon=1000, seed=42)"
      ],
      "execution_count": 73,
      "outputs": [
        {
          "output_type": "stream",
          "text": [
            "Exp 0\n",
            "Exp 1\n",
            "Exp 2\n",
            "Exp 3\n",
            "Exp 4\n",
            "Exp 5\n",
            "Exp 6\n",
            "Exp 7\n",
            "Exp 8\n",
            "Exp 9\n"
          ],
          "name": "stdout"
        }
      ]
    },
    {
      "cell_type": "code",
      "metadata": {
        "id": "6omBHooP3_f6",
        "colab_type": "code",
        "colab": {
          "base_uri": "https://localhost:8080/",
          "height": 1000
        },
        "outputId": "99d68257-9e9a-4746-f5c9-33c0a5c39992"
      },
      "source": [
        "cum_regretsDL, n_usersDL, optimal_usersDL = run_multiple_exp(10, env, agent_type=\"DL\", horizon=1000, seed=42)"
      ],
      "execution_count": 74,
      "outputs": [
        {
          "output_type": "stream",
          "text": [
            "Exp 0\n",
            "Train on 18000 samples\n",
            "Epoch 1/10\n"
          ],
          "name": "stdout"
        },
        {
          "output_type": "stream",
          "text": [
            "/tensorflow-2.1.0/python3.6/tensorflow_core/python/framework/indexed_slices.py:433: UserWarning: Converting sparse IndexedSlices to a dense Tensor of unknown shape. This may consume a large amount of memory.\n",
            "  \"Converting sparse IndexedSlices to a dense Tensor of unknown shape. \"\n"
          ],
          "name": "stderr"
        },
        {
          "output_type": "stream",
          "text": [
            "\r   64/18000 [..............................] - ETA: 2:52 - loss: 0.9899"
          ],
          "name": "stdout"
        },
        {
          "output_type": "stream",
          "text": [
            "/tensorflow-2.1.0/python3.6/tensorflow_core/python/framework/indexed_slices.py:433: UserWarning: Converting sparse IndexedSlices to a dense Tensor of unknown shape. This may consume a large amount of memory.\n",
            "  \"Converting sparse IndexedSlices to a dense Tensor of unknown shape. \"\n"
          ],
          "name": "stderr"
        },
        {
          "output_type": "stream",
          "text": [
            "18000/18000 [==============================] - 2s 87us/sample - loss: 0.6370\n",
            "Epoch 2/10\n",
            "18000/18000 [==============================] - 1s 51us/sample - loss: 0.2921\n",
            "Epoch 3/10\n",
            "18000/18000 [==============================] - 1s 51us/sample - loss: 0.2582\n",
            "Epoch 4/10\n",
            "18000/18000 [==============================] - 1s 50us/sample - loss: 0.2501\n",
            "Epoch 5/10\n",
            "18000/18000 [==============================] - 1s 48us/sample - loss: 0.2461\n",
            "Epoch 6/10\n",
            "18000/18000 [==============================] - 1s 47us/sample - loss: 0.2437\n",
            "Epoch 7/10\n",
            "18000/18000 [==============================] - 1s 47us/sample - loss: 0.2425\n",
            "Epoch 8/10\n",
            "18000/18000 [==============================] - 1s 45us/sample - loss: 0.2410\n",
            "Epoch 9/10\n",
            "18000/18000 [==============================] - 1s 45us/sample - loss: 0.2402\n",
            "Epoch 10/10\n",
            "18000/18000 [==============================] - 1s 47us/sample - loss: 0.2389\n"
          ],
          "name": "stdout"
        },
        {
          "output_type": "stream",
          "text": [
            "/tensorflow-2.1.0/python3.6/tensorflow_core/python/framework/indexed_slices.py:433: UserWarning: Converting sparse IndexedSlices to a dense Tensor of unknown shape. This may consume a large amount of memory.\n",
            "  \"Converting sparse IndexedSlices to a dense Tensor of unknown shape. \"\n"
          ],
          "name": "stderr"
        },
        {
          "output_type": "stream",
          "text": [
            "Exp 1\n",
            "Train on 18000 samples\n",
            "Epoch 1/10\n"
          ],
          "name": "stdout"
        },
        {
          "output_type": "stream",
          "text": [
            "/tensorflow-2.1.0/python3.6/tensorflow_core/python/framework/indexed_slices.py:433: UserWarning: Converting sparse IndexedSlices to a dense Tensor of unknown shape. This may consume a large amount of memory.\n",
            "  \"Converting sparse IndexedSlices to a dense Tensor of unknown shape. \"\n"
          ],
          "name": "stderr"
        },
        {
          "output_type": "stream",
          "text": [
            "\r   64/18000 [..............................] - ETA: 2:53 - loss: 0.9880"
          ],
          "name": "stdout"
        },
        {
          "output_type": "stream",
          "text": [
            "/tensorflow-2.1.0/python3.6/tensorflow_core/python/framework/indexed_slices.py:433: UserWarning: Converting sparse IndexedSlices to a dense Tensor of unknown shape. This may consume a large amount of memory.\n",
            "  \"Converting sparse IndexedSlices to a dense Tensor of unknown shape. \"\n"
          ],
          "name": "stderr"
        },
        {
          "output_type": "stream",
          "text": [
            "18000/18000 [==============================] - 1s 81us/sample - loss: 0.6539\n",
            "Epoch 2/10\n",
            "18000/18000 [==============================] - 1s 46us/sample - loss: 0.3027\n",
            "Epoch 3/10\n",
            "18000/18000 [==============================] - 1s 45us/sample - loss: 0.2640\n",
            "Epoch 4/10\n",
            "18000/18000 [==============================] - 1s 44us/sample - loss: 0.2546\n",
            "Epoch 5/10\n",
            "18000/18000 [==============================] - 1s 46us/sample - loss: 0.2501\n",
            "Epoch 6/10\n",
            "18000/18000 [==============================] - 1s 45us/sample - loss: 0.2476\n",
            "Epoch 7/10\n",
            "18000/18000 [==============================] - 1s 52us/sample - loss: 0.2459\n",
            "Epoch 8/10\n",
            "18000/18000 [==============================] - 1s 50us/sample - loss: 0.2442\n",
            "Epoch 9/10\n",
            "18000/18000 [==============================] - 1s 47us/sample - loss: 0.2432\n",
            "Epoch 10/10\n",
            "18000/18000 [==============================] - 1s 53us/sample - loss: 0.2426\n"
          ],
          "name": "stdout"
        },
        {
          "output_type": "stream",
          "text": [
            "/tensorflow-2.1.0/python3.6/tensorflow_core/python/framework/indexed_slices.py:433: UserWarning: Converting sparse IndexedSlices to a dense Tensor of unknown shape. This may consume a large amount of memory.\n",
            "  \"Converting sparse IndexedSlices to a dense Tensor of unknown shape. \"\n"
          ],
          "name": "stderr"
        },
        {
          "output_type": "stream",
          "text": [
            "Exp 2\n",
            "Train on 18000 samples\n",
            "Epoch 1/10\n"
          ],
          "name": "stdout"
        },
        {
          "output_type": "stream",
          "text": [
            "/tensorflow-2.1.0/python3.6/tensorflow_core/python/framework/indexed_slices.py:433: UserWarning: Converting sparse IndexedSlices to a dense Tensor of unknown shape. This may consume a large amount of memory.\n",
            "  \"Converting sparse IndexedSlices to a dense Tensor of unknown shape. \"\n"
          ],
          "name": "stderr"
        },
        {
          "output_type": "stream",
          "text": [
            "\r   64/18000 [..............................] - ETA: 2:50 - loss: 0.9792"
          ],
          "name": "stdout"
        },
        {
          "output_type": "stream",
          "text": [
            "/tensorflow-2.1.0/python3.6/tensorflow_core/python/framework/indexed_slices.py:433: UserWarning: Converting sparse IndexedSlices to a dense Tensor of unknown shape. This may consume a large amount of memory.\n",
            "  \"Converting sparse IndexedSlices to a dense Tensor of unknown shape. \"\n"
          ],
          "name": "stderr"
        },
        {
          "output_type": "stream",
          "text": [
            "18000/18000 [==============================] - 1s 79us/sample - loss: 0.6670\n",
            "Epoch 2/10\n",
            "18000/18000 [==============================] - 1s 53us/sample - loss: 0.3266\n",
            "Epoch 3/10\n",
            "18000/18000 [==============================] - 1s 51us/sample - loss: 0.2860\n",
            "Epoch 4/10\n",
            "18000/18000 [==============================] - 1s 47us/sample - loss: 0.2760\n",
            "Epoch 5/10\n",
            "18000/18000 [==============================] - 1s 48us/sample - loss: 0.2715\n",
            "Epoch 6/10\n",
            "18000/18000 [==============================] - 1s 44us/sample - loss: 0.2691\n",
            "Epoch 7/10\n",
            "18000/18000 [==============================] - 1s 45us/sample - loss: 0.2673\n",
            "Epoch 8/10\n",
            "18000/18000 [==============================] - 1s 49us/sample - loss: 0.2659\n",
            "Epoch 9/10\n",
            "18000/18000 [==============================] - 1s 48us/sample - loss: 0.2645\n",
            "Epoch 10/10\n",
            "18000/18000 [==============================] - 1s 44us/sample - loss: 0.2636\n"
          ],
          "name": "stdout"
        },
        {
          "output_type": "stream",
          "text": [
            "/tensorflow-2.1.0/python3.6/tensorflow_core/python/framework/indexed_slices.py:433: UserWarning: Converting sparse IndexedSlices to a dense Tensor of unknown shape. This may consume a large amount of memory.\n",
            "  \"Converting sparse IndexedSlices to a dense Tensor of unknown shape. \"\n"
          ],
          "name": "stderr"
        },
        {
          "output_type": "stream",
          "text": [
            "Exp 3\n",
            "Train on 18000 samples\n",
            "Epoch 1/10\n"
          ],
          "name": "stdout"
        },
        {
          "output_type": "stream",
          "text": [
            "/tensorflow-2.1.0/python3.6/tensorflow_core/python/framework/indexed_slices.py:433: UserWarning: Converting sparse IndexedSlices to a dense Tensor of unknown shape. This may consume a large amount of memory.\n",
            "  \"Converting sparse IndexedSlices to a dense Tensor of unknown shape. \"\n",
            "/tensorflow-2.1.0/python3.6/tensorflow_core/python/framework/indexed_slices.py:433: UserWarning: Converting sparse IndexedSlices to a dense Tensor of unknown shape. This may consume a large amount of memory.\n",
            "  \"Converting sparse IndexedSlices to a dense Tensor of unknown shape. \"\n"
          ],
          "name": "stderr"
        },
        {
          "output_type": "stream",
          "text": [
            "18000/18000 [==============================] - 2s 103us/sample - loss: 0.6492\n",
            "Epoch 2/10\n",
            "18000/18000 [==============================] - 1s 45us/sample - loss: 0.3066\n",
            "Epoch 3/10\n",
            "18000/18000 [==============================] - 1s 45us/sample - loss: 0.2703\n",
            "Epoch 4/10\n",
            "18000/18000 [==============================] - 1s 45us/sample - loss: 0.2615\n",
            "Epoch 5/10\n",
            "18000/18000 [==============================] - 1s 44us/sample - loss: 0.2575\n",
            "Epoch 6/10\n",
            "18000/18000 [==============================] - 1s 48us/sample - loss: 0.2556\n",
            "Epoch 7/10\n",
            "18000/18000 [==============================] - 1s 51us/sample - loss: 0.2538\n",
            "Epoch 8/10\n",
            "18000/18000 [==============================] - 1s 47us/sample - loss: 0.2526\n",
            "Epoch 9/10\n",
            "18000/18000 [==============================] - 1s 48us/sample - loss: 0.2516\n",
            "Epoch 10/10\n",
            "18000/18000 [==============================] - 1s 47us/sample - loss: 0.2502\n"
          ],
          "name": "stdout"
        },
        {
          "output_type": "stream",
          "text": [
            "/tensorflow-2.1.0/python3.6/tensorflow_core/python/framework/indexed_slices.py:433: UserWarning: Converting sparse IndexedSlices to a dense Tensor of unknown shape. This may consume a large amount of memory.\n",
            "  \"Converting sparse IndexedSlices to a dense Tensor of unknown shape. \"\n"
          ],
          "name": "stderr"
        },
        {
          "output_type": "stream",
          "text": [
            "Exp 4\n",
            "Train on 18000 samples\n",
            "Epoch 1/10\n"
          ],
          "name": "stdout"
        },
        {
          "output_type": "stream",
          "text": [
            "/tensorflow-2.1.0/python3.6/tensorflow_core/python/framework/indexed_slices.py:433: UserWarning: Converting sparse IndexedSlices to a dense Tensor of unknown shape. This may consume a large amount of memory.\n",
            "  \"Converting sparse IndexedSlices to a dense Tensor of unknown shape. \"\n"
          ],
          "name": "stderr"
        },
        {
          "output_type": "stream",
          "text": [
            "\r   64/18000 [..............................] - ETA: 2:47 - loss: 0.9962"
          ],
          "name": "stdout"
        },
        {
          "output_type": "stream",
          "text": [
            "/tensorflow-2.1.0/python3.6/tensorflow_core/python/framework/indexed_slices.py:433: UserWarning: Converting sparse IndexedSlices to a dense Tensor of unknown shape. This may consume a large amount of memory.\n",
            "  \"Converting sparse IndexedSlices to a dense Tensor of unknown shape. \"\n"
          ],
          "name": "stderr"
        },
        {
          "output_type": "stream",
          "text": [
            "18000/18000 [==============================] - 1s 77us/sample - loss: 0.6621\n",
            "Epoch 2/10\n",
            "18000/18000 [==============================] - 1s 46us/sample - loss: 0.3097\n",
            "Epoch 3/10\n",
            "18000/18000 [==============================] - 1s 47us/sample - loss: 0.2692\n",
            "Epoch 4/10\n",
            "18000/18000 [==============================] - 1s 49us/sample - loss: 0.2596\n",
            "Epoch 5/10\n",
            "18000/18000 [==============================] - 1s 47us/sample - loss: 0.2554\n",
            "Epoch 6/10\n",
            "18000/18000 [==============================] - 1s 47us/sample - loss: 0.2532\n",
            "Epoch 7/10\n",
            "18000/18000 [==============================] - 1s 50us/sample - loss: 0.2515\n",
            "Epoch 8/10\n",
            "18000/18000 [==============================] - 1s 47us/sample - loss: 0.2500\n",
            "Epoch 9/10\n",
            "18000/18000 [==============================] - 1s 47us/sample - loss: 0.2484\n",
            "Epoch 10/10\n",
            "18000/18000 [==============================] - 1s 52us/sample - loss: 0.2478\n"
          ],
          "name": "stdout"
        },
        {
          "output_type": "stream",
          "text": [
            "/tensorflow-2.1.0/python3.6/tensorflow_core/python/framework/indexed_slices.py:433: UserWarning: Converting sparse IndexedSlices to a dense Tensor of unknown shape. This may consume a large amount of memory.\n",
            "  \"Converting sparse IndexedSlices to a dense Tensor of unknown shape. \"\n"
          ],
          "name": "stderr"
        },
        {
          "output_type": "stream",
          "text": [
            "Exp 5\n",
            "Train on 18000 samples\n",
            "Epoch 1/10\n"
          ],
          "name": "stdout"
        },
        {
          "output_type": "stream",
          "text": [
            "/tensorflow-2.1.0/python3.6/tensorflow_core/python/framework/indexed_slices.py:433: UserWarning: Converting sparse IndexedSlices to a dense Tensor of unknown shape. This may consume a large amount of memory.\n",
            "  \"Converting sparse IndexedSlices to a dense Tensor of unknown shape. \"\n"
          ],
          "name": "stderr"
        },
        {
          "output_type": "stream",
          "text": [
            "\r   64/18000 [..............................] - ETA: 2:46 - loss: 0.9568"
          ],
          "name": "stdout"
        },
        {
          "output_type": "stream",
          "text": [
            "/tensorflow-2.1.0/python3.6/tensorflow_core/python/framework/indexed_slices.py:433: UserWarning: Converting sparse IndexedSlices to a dense Tensor of unknown shape. This may consume a large amount of memory.\n",
            "  \"Converting sparse IndexedSlices to a dense Tensor of unknown shape. \"\n"
          ],
          "name": "stderr"
        },
        {
          "output_type": "stream",
          "text": [
            "18000/18000 [==============================] - 1s 78us/sample - loss: 0.6429\n",
            "Epoch 2/10\n",
            "18000/18000 [==============================] - 1s 47us/sample - loss: 0.2999\n",
            "Epoch 3/10\n",
            "18000/18000 [==============================] - 1s 44us/sample - loss: 0.2636\n",
            "Epoch 4/10\n",
            "18000/18000 [==============================] - 1s 44us/sample - loss: 0.2548\n",
            "Epoch 5/10\n",
            "18000/18000 [==============================] - 1s 42us/sample - loss: 0.2505\n",
            "Epoch 6/10\n",
            "18000/18000 [==============================] - 1s 43us/sample - loss: 0.2479\n",
            "Epoch 7/10\n",
            "18000/18000 [==============================] - 1s 44us/sample - loss: 0.2463\n",
            "Epoch 8/10\n",
            "18000/18000 [==============================] - 1s 43us/sample - loss: 0.2454\n",
            "Epoch 9/10\n",
            "18000/18000 [==============================] - 1s 49us/sample - loss: 0.2441\n",
            "Epoch 10/10\n",
            "18000/18000 [==============================] - 1s 50us/sample - loss: 0.2430\n"
          ],
          "name": "stdout"
        },
        {
          "output_type": "stream",
          "text": [
            "/tensorflow-2.1.0/python3.6/tensorflow_core/python/framework/indexed_slices.py:433: UserWarning: Converting sparse IndexedSlices to a dense Tensor of unknown shape. This may consume a large amount of memory.\n",
            "  \"Converting sparse IndexedSlices to a dense Tensor of unknown shape. \"\n"
          ],
          "name": "stderr"
        },
        {
          "output_type": "stream",
          "text": [
            "Exp 6\n",
            "Train on 18000 samples\n",
            "Epoch 1/10\n"
          ],
          "name": "stdout"
        },
        {
          "output_type": "stream",
          "text": [
            "/tensorflow-2.1.0/python3.6/tensorflow_core/python/framework/indexed_slices.py:433: UserWarning: Converting sparse IndexedSlices to a dense Tensor of unknown shape. This may consume a large amount of memory.\n",
            "  \"Converting sparse IndexedSlices to a dense Tensor of unknown shape. \"\n"
          ],
          "name": "stderr"
        },
        {
          "output_type": "stream",
          "text": [
            "\r   64/18000 [..............................] - ETA: 2:54 - loss: 1.0057"
          ],
          "name": "stdout"
        },
        {
          "output_type": "stream",
          "text": [
            "/tensorflow-2.1.0/python3.6/tensorflow_core/python/framework/indexed_slices.py:433: UserWarning: Converting sparse IndexedSlices to a dense Tensor of unknown shape. This may consume a large amount of memory.\n",
            "  \"Converting sparse IndexedSlices to a dense Tensor of unknown shape. \"\n"
          ],
          "name": "stderr"
        },
        {
          "output_type": "stream",
          "text": [
            "18000/18000 [==============================] - 2s 83us/sample - loss: 0.6608\n",
            "Epoch 2/10\n",
            "18000/18000 [==============================] - 1s 49us/sample - loss: 0.3149\n",
            "Epoch 3/10\n",
            "18000/18000 [==============================] - 1s 47us/sample - loss: 0.2760\n",
            "Epoch 4/10\n",
            "18000/18000 [==============================] - 1s 47us/sample - loss: 0.2667\n",
            "Epoch 5/10\n",
            "18000/18000 [==============================] - 1s 48us/sample - loss: 0.2631\n",
            "Epoch 6/10\n",
            "18000/18000 [==============================] - 1s 57us/sample - loss: 0.2609\n",
            "Epoch 7/10\n",
            "18000/18000 [==============================] - 1s 57us/sample - loss: 0.2586\n",
            "Epoch 8/10\n",
            "18000/18000 [==============================] - 1s 52us/sample - loss: 0.2575\n",
            "Epoch 9/10\n",
            "18000/18000 [==============================] - 1s 57us/sample - loss: 0.2565\n",
            "Epoch 10/10\n",
            "18000/18000 [==============================] - 1s 52us/sample - loss: 0.2559\n"
          ],
          "name": "stdout"
        },
        {
          "output_type": "stream",
          "text": [
            "/tensorflow-2.1.0/python3.6/tensorflow_core/python/framework/indexed_slices.py:433: UserWarning: Converting sparse IndexedSlices to a dense Tensor of unknown shape. This may consume a large amount of memory.\n",
            "  \"Converting sparse IndexedSlices to a dense Tensor of unknown shape. \"\n"
          ],
          "name": "stderr"
        },
        {
          "output_type": "stream",
          "text": [
            "Exp 7\n",
            "Train on 18000 samples\n",
            "Epoch 1/10\n"
          ],
          "name": "stdout"
        },
        {
          "output_type": "stream",
          "text": [
            "/tensorflow-2.1.0/python3.6/tensorflow_core/python/framework/indexed_slices.py:433: UserWarning: Converting sparse IndexedSlices to a dense Tensor of unknown shape. This may consume a large amount of memory.\n",
            "  \"Converting sparse IndexedSlices to a dense Tensor of unknown shape. \"\n"
          ],
          "name": "stderr"
        },
        {
          "output_type": "stream",
          "text": [
            "\r   64/18000 [..............................] - ETA: 2:57 - loss: 1.0342"
          ],
          "name": "stdout"
        },
        {
          "output_type": "stream",
          "text": [
            "/tensorflow-2.1.0/python3.6/tensorflow_core/python/framework/indexed_slices.py:433: UserWarning: Converting sparse IndexedSlices to a dense Tensor of unknown shape. This may consume a large amount of memory.\n",
            "  \"Converting sparse IndexedSlices to a dense Tensor of unknown shape. \"\n"
          ],
          "name": "stderr"
        },
        {
          "output_type": "stream",
          "text": [
            "18000/18000 [==============================] - 2s 84us/sample - loss: 0.6632\n",
            "Epoch 2/10\n",
            "18000/18000 [==============================] - 1s 48us/sample - loss: 0.3136\n",
            "Epoch 3/10\n",
            "18000/18000 [==============================] - 1s 44us/sample - loss: 0.2748\n",
            "Epoch 4/10\n",
            "18000/18000 [==============================] - 1s 45us/sample - loss: 0.2665\n",
            "Epoch 5/10\n",
            "18000/18000 [==============================] - 1s 44us/sample - loss: 0.2618\n",
            "Epoch 6/10\n",
            "18000/18000 [==============================] - 1s 44us/sample - loss: 0.2596\n",
            "Epoch 7/10\n",
            "18000/18000 [==============================] - 1s 42us/sample - loss: 0.2577\n",
            "Epoch 8/10\n",
            "18000/18000 [==============================] - 1s 43us/sample - loss: 0.2569\n",
            "Epoch 9/10\n",
            "18000/18000 [==============================] - 1s 42us/sample - loss: 0.2558\n",
            "Epoch 10/10\n",
            "18000/18000 [==============================] - 1s 44us/sample - loss: 0.2548\n"
          ],
          "name": "stdout"
        },
        {
          "output_type": "stream",
          "text": [
            "/tensorflow-2.1.0/python3.6/tensorflow_core/python/framework/indexed_slices.py:433: UserWarning: Converting sparse IndexedSlices to a dense Tensor of unknown shape. This may consume a large amount of memory.\n",
            "  \"Converting sparse IndexedSlices to a dense Tensor of unknown shape. \"\n"
          ],
          "name": "stderr"
        },
        {
          "output_type": "stream",
          "text": [
            "Exp 8\n",
            "Train on 18000 samples\n",
            "Epoch 1/10\n"
          ],
          "name": "stdout"
        },
        {
          "output_type": "stream",
          "text": [
            "/tensorflow-2.1.0/python3.6/tensorflow_core/python/framework/indexed_slices.py:433: UserWarning: Converting sparse IndexedSlices to a dense Tensor of unknown shape. This may consume a large amount of memory.\n",
            "  \"Converting sparse IndexedSlices to a dense Tensor of unknown shape. \"\n"
          ],
          "name": "stderr"
        },
        {
          "output_type": "stream",
          "text": [
            "\r   64/18000 [..............................] - ETA: 2:46 - loss: 0.9657"
          ],
          "name": "stdout"
        },
        {
          "output_type": "stream",
          "text": [
            "/tensorflow-2.1.0/python3.6/tensorflow_core/python/framework/indexed_slices.py:433: UserWarning: Converting sparse IndexedSlices to a dense Tensor of unknown shape. This may consume a large amount of memory.\n",
            "  \"Converting sparse IndexedSlices to a dense Tensor of unknown shape. \"\n"
          ],
          "name": "stderr"
        },
        {
          "output_type": "stream",
          "text": [
            "18000/18000 [==============================] - 1s 77us/sample - loss: 0.6560\n",
            "Epoch 2/10\n",
            "18000/18000 [==============================] - 1s 42us/sample - loss: 0.3146\n",
            "Epoch 3/10\n",
            "18000/18000 [==============================] - 1s 44us/sample - loss: 0.2758\n",
            "Epoch 4/10\n",
            "18000/18000 [==============================] - 1s 42us/sample - loss: 0.2667\n",
            "Epoch 5/10\n",
            "18000/18000 [==============================] - 1s 43us/sample - loss: 0.2622\n",
            "Epoch 6/10\n",
            "18000/18000 [==============================] - 1s 43us/sample - loss: 0.2600\n",
            "Epoch 7/10\n",
            "18000/18000 [==============================] - 1s 44us/sample - loss: 0.2581\n",
            "Epoch 8/10\n",
            "18000/18000 [==============================] - 1s 48us/sample - loss: 0.2569\n",
            "Epoch 9/10\n",
            "18000/18000 [==============================] - 1s 48us/sample - loss: 0.2559\n",
            "Epoch 10/10\n",
            "18000/18000 [==============================] - 1s 43us/sample - loss: 0.2547\n"
          ],
          "name": "stdout"
        },
        {
          "output_type": "stream",
          "text": [
            "/tensorflow-2.1.0/python3.6/tensorflow_core/python/framework/indexed_slices.py:433: UserWarning: Converting sparse IndexedSlices to a dense Tensor of unknown shape. This may consume a large amount of memory.\n",
            "  \"Converting sparse IndexedSlices to a dense Tensor of unknown shape. \"\n"
          ],
          "name": "stderr"
        },
        {
          "output_type": "stream",
          "text": [
            "Exp 9\n",
            "Train on 18000 samples\n",
            "Epoch 1/10\n"
          ],
          "name": "stdout"
        },
        {
          "output_type": "stream",
          "text": [
            "/tensorflow-2.1.0/python3.6/tensorflow_core/python/framework/indexed_slices.py:433: UserWarning: Converting sparse IndexedSlices to a dense Tensor of unknown shape. This may consume a large amount of memory.\n",
            "  \"Converting sparse IndexedSlices to a dense Tensor of unknown shape. \"\n"
          ],
          "name": "stderr"
        },
        {
          "output_type": "stream",
          "text": [
            "\r   64/18000 [..............................] - ETA: 2:48 - loss: 0.9676"
          ],
          "name": "stdout"
        },
        {
          "output_type": "stream",
          "text": [
            "/tensorflow-2.1.0/python3.6/tensorflow_core/python/framework/indexed_slices.py:433: UserWarning: Converting sparse IndexedSlices to a dense Tensor of unknown shape. This may consume a large amount of memory.\n",
            "  \"Converting sparse IndexedSlices to a dense Tensor of unknown shape. \"\n"
          ],
          "name": "stderr"
        },
        {
          "output_type": "stream",
          "text": [
            "18000/18000 [==============================] - 1s 76us/sample - loss: 0.6730\n",
            "Epoch 2/10\n",
            "18000/18000 [==============================] - 1s 42us/sample - loss: 0.3112\n",
            "Epoch 3/10\n",
            "18000/18000 [==============================] - 1s 43us/sample - loss: 0.2715\n",
            "Epoch 4/10\n",
            "18000/18000 [==============================] - 1s 44us/sample - loss: 0.2628\n",
            "Epoch 5/10\n",
            "18000/18000 [==============================] - 1s 48us/sample - loss: 0.2593\n",
            "Epoch 6/10\n",
            "18000/18000 [==============================] - 1s 46us/sample - loss: 0.2569\n",
            "Epoch 7/10\n",
            "18000/18000 [==============================] - 1s 41us/sample - loss: 0.2548\n",
            "Epoch 8/10\n",
            "18000/18000 [==============================] - 1s 45us/sample - loss: 0.2538\n",
            "Epoch 9/10\n",
            "18000/18000 [==============================] - 1s 42us/sample - loss: 0.2527\n",
            "Epoch 10/10\n",
            "18000/18000 [==============================] - 1s 42us/sample - loss: 0.2517\n"
          ],
          "name": "stdout"
        },
        {
          "output_type": "stream",
          "text": [
            "/tensorflow-2.1.0/python3.6/tensorflow_core/python/framework/indexed_slices.py:433: UserWarning: Converting sparse IndexedSlices to a dense Tensor of unknown shape. This may consume a large amount of memory.\n",
            "  \"Converting sparse IndexedSlices to a dense Tensor of unknown shape. \"\n"
          ],
          "name": "stderr"
        }
      ]
    },
    {
      "cell_type": "code",
      "metadata": {
        "id": "sNF_5CLTe69Y",
        "colab_type": "code",
        "outputId": "d7c3c3b2-1ca8-449e-dc98-173def507a5d",
        "colab": {
          "base_uri": "https://localhost:8080/",
          "height": 330
        }
      },
      "source": [
        "print('Random mean regret: {:.2f}'.format(cum_regretsRandom[:, -1].mean()))\n",
        "print('EG mean regret: {:.2f}'.format(cum_regretsEG[:, -1].mean()))\n",
        "print('DL mean regret: {:.2f}'.format(cum_regretsDL[:, -1].mean()))\n",
        "plt.plot(cum_regretsRandom.mean(axis=0), label='Mean Random', color='blue')\n",
        "plt.plot(np.quantile(cum_regretsRandom, 0.05, axis=0), color='blue', ls='--', alpha=0.5)\n",
        "plt.plot(np.quantile(cum_regretsRandom, 0.95, axis=0), color='blue', ls='--', alpha=0.5)\n",
        "plt.plot(cum_regretsEG.mean(axis=0), label='Mean EG', color='orange')\n",
        "plt.plot(np.quantile(cum_regretsEG, 0.05, axis=0), color='orange', ls='--', alpha=0.5)\n",
        "plt.plot(np.quantile(cum_regretsEG, 0.95, axis=0), color='orange', ls='--', alpha=0.5)\n",
        "plt.plot(cum_regretsDL.mean(axis=0), label='Mean DL', color='green')\n",
        "plt.plot(np.quantile(cum_regretsDL, 0.05, axis=0), color='green', ls='--', alpha=0.5)\n",
        "plt.plot(np.quantile(cum_regretsDL, 0.95, axis=0), color='green', ls='--', alpha=0.5)\n",
        "plt.xlabel('steps')\n",
        "plt.ylabel('regret')\n",
        "plt.legend()\n",
        "plt.title('Regret')\n",
        "plt.show()"
      ],
      "execution_count": 75,
      "outputs": [
        {
          "output_type": "stream",
          "text": [
            "Random mean regret: 12.87\n",
            "EG mean regret: 4.45\n"
          ],
          "name": "stdout"
        },
        {
          "output_type": "display_data",
          "data": {
            "image/png": "[encoded data removed]",
            "text/plain": [
              "<Figure size 432x288 with 1 Axes>"
            ]
          },
          "metadata": {
            "tags": []
          }
        }
      ]
    },
    {
      "cell_type": "markdown",
      "metadata": {
        "id": "rD6xNQ-8XvWE",
        "colab_type": "text"
      },
      "source": [
        "On 10 tests, EG seems to reliably perform better than random.\n",
        "DL is horribly bad though."
      ]
    },
    {
      "cell_type": "code",
      "metadata": {
        "id": "_YDrHIi5iHwM",
        "colab_type": "code",
        "outputId": "f6f81ed4-40fb-421b-d05e-4df8430bb4fd",
        "colab": {
          "base_uri": "https://localhost:8080/",
          "height": 295
        }
      },
      "source": [
        "plt.plot(n_usersEG.mean(axis=0), label='n_users', color='blue')\n",
        "plt.plot(np.quantile(n_usersEG, 0.05, axis=0), color='blue', ls='--', alpha=0.5)\n",
        "plt.plot(np.quantile(n_usersEG, 0.95, axis=0), color='blue', ls='--', alpha=0.5)\n",
        "plt.plot(optimal_usersEG.mean(axis=0), label='optimal_users', color='red')\n",
        "plt.plot(np.quantile(optimal_usersEG, 0.05, axis=0), color='red', ls='--', alpha=0.5)\n",
        "plt.plot(np.quantile(optimal_usersEG, 0.95, axis=0), color='red', ls='--', alpha=0.5)\n",
        "plt.xlabel('steps')\n",
        "plt.ylabel('users')\n",
        "plt.legend()\n",
        "plt.title('EG')\n",
        "plt.show()"
      ],
      "execution_count": 79,
      "outputs": [
        {
          "output_type": "display_data",
          "data": {
            "image/png": "[encoded data removed]",
            "text/plain": [
              "<Figure size 432x288 with 1 Axes>"
            ]
          },
          "metadata": {
            "tags": []
          }
        }
      ]
    },
    {
      "cell_type": "code",
      "metadata": {
        "id": "Il7WwgGClknU",
        "colab_type": "code",
        "outputId": "e376082d-7c99-4927-92bf-6048903e002c",
        "colab": {
          "base_uri": "https://localhost:8080/",
          "height": 295
        }
      },
      "source": [
        "plt.plot(n_usersRandom.mean(axis=0), label='n_users', color='blue')\n",
        "plt.plot(np.quantile(n_usersRandom, 0.05, axis=0), color='blue', ls='--', alpha=0.5)\n",
        "plt.plot(np.quantile(n_usersRandom, 0.95, axis=0), color='blue', ls='--', alpha=0.5)\n",
        "plt.plot(optimal_usersRandom.mean(axis=0), label='optimal_users', color='red')\n",
        "plt.plot(np.quantile(optimal_usersRandom, 0.05, axis=0), color='red', ls='--', alpha=0.5)\n",
        "plt.plot(np.quantile(optimal_usersRandom, 0.95, axis=0), color='red', ls='--', alpha=0.5)\n",
        "plt.xlabel('steps')\n",
        "plt.ylabel('users')\n",
        "plt.legend()\n",
        "plt.title('Random')\n",
        "plt.show()"
      ],
      "execution_count": 80,
      "outputs": [
        {
          "output_type": "display_data",
          "data": {
            "image/png": "[encoded data removed]",
            "text/plain": [
              "<Figure size 432x288 with 1 Axes>"
            ]
          },
          "metadata": {
            "tags": []
          }
        }
      ]
    },
    {
      "cell_type": "code",
      "metadata": {
        "id": "6QkYtmGF-tWj",
        "colab_type": "code",
        "colab": {
          "base_uri": "https://localhost:8080/",
          "height": 295
        },
        "outputId": "1e7a8f09-a631-48c6-8db4-d2473be904c2"
      },
      "source": [
        "plt.plot(n_usersDL.mean(axis=0), label='n_users', color='blue')\n",
        "plt.plot(np.quantile(n_usersDL, 0.05, axis=0), color='blue', ls='--', alpha=0.5)\n",
        "plt.plot(np.quantile(n_usersDL, 0.95, axis=0), color='blue', ls='--', alpha=0.5)\n",
        "plt.plot(optimal_usersDL.mean(axis=0), label='optimal_users', color='red')\n",
        "plt.plot(np.quantile(optimal_usersDL, 0.05, axis=0), color='red', ls='--', alpha=0.5)\n",
        "plt.plot(np.quantile(optimal_usersDL, 0.95, axis=0), color='red', ls='--', alpha=0.5)\n",
        "plt.xlabel('steps')\n",
        "plt.ylabel('users')\n",
        "plt.legend()\n",
        "plt.title('DL')\n",
        "plt.show()"
      ],
      "execution_count": 81,
      "outputs": [
        {
          "output_type": "display_data",
          "data": {
            "image/png": "[encoded data removed]",
            "text/plain": [
              "<Figure size 432x288 with 1 Axes>"
            ]
          },
          "metadata": {
            "tags": []
          }
        }
      ]
    }
  ]
}