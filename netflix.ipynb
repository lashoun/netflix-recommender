{
  "nbformat": 4,
  "nbformat_minor": 0,
  "metadata": {
    "jupytext": {
      "formats": "ipynb,py:percent"
    },
    "kernelspec": {
      "display_name": "Python 3",
      "language": "python",
      "name": "python3"
    },
    "language_info": {
      "codemirror_mode": {
        "name": "ipython",
        "version": 3
      },
      "file_extension": ".py",
      "mimetype": "text/x-python",
      "name": "python",
      "nbconvert_exporter": "python",
      "pygments_lexer": "ipython3",
      "version": "3.7.5"
    },
    "colab": {
      "name": "lab1.ipynb",
      "provenance": [],
      "collapsed_sections": []
    }
  },
  "cells": [
    {
      "cell_type": "code",
      "metadata": {
        "id": "fs5fJ_OFnzw3",
        "colab_type": "code",
        "colab": {}
      },
      "source": [
        "import numpy as np\n",
        "import matplotlib.pyplot as plt"
      ],
      "execution_count": 0,
      "outputs": []
    },
    {
      "cell_type": "markdown",
      "metadata": {
        "id": "jNpchPr3nzx4",
        "colab_type": "text"
      },
      "source": [
        "# Rating environment"
      ]
    },
    {
      "cell_type": "code",
      "metadata": {
        "id": "vSukqaPMnzx8",
        "colab_type": "code",
        "colab": {}
      },
      "source": [
        "N_FEATURES = 10\n",
        "N_USERS = 20\n",
        "N_MOVIES = 100\n",
        "MAX_USERS = 300\n",
        "MAX_MOVIES = 1000\n",
        "\n",
        "# https://www.desmos.com/calculator/ftbdppvm03"
      ],
      "execution_count": 0,
      "outputs": []
    },
    {
      "cell_type": "markdown",
      "metadata": {
        "id": "8boCQfnpnzyO",
        "colab_type": "text"
      },
      "source": [
        "## Helper functions"
      ]
    },
    {
      "cell_type": "code",
      "metadata": {
        "id": "dmiV9zvBnzyR",
        "colab_type": "code",
        "colab": {}
      },
      "source": [
        "def generate_data(n_samples, n_features, rng=np.random.default_rng(), scheme=\"gauss\", n_means=10, means_pol=5, pol=5, pol_threshold=1e-5):\n",
        "    if scheme == \"gauss\":\n",
        "        means = 2 * np.random.random((n_means, n_features)) - 1\n",
        "        old_norms = np.linalg.norm(means, axis=1)\n",
        "        for i in range(len(means)):\n",
        "            means[i] = np.sign(means[i]) * np.abs(means[i]) ** means_pol\n",
        "            means[i][np.abs(means[i]) < pol_threshold] = 0\n",
        "        new_norms = np.linalg.norm(means, axis=1)\n",
        "        for i in range(len(means)):\n",
        "            means[i] *= old_norms[i] / new_norms[i]\n",
        "        data = np.zeros((n_samples, n_features))\n",
        "        batch_size = n_samples // n_means\n",
        "        for i in range(n_means):\n",
        "            data[batch_size*i:batch_size*(i+1)] = rng.multivariate_normal(means[i], np.identity(n_features)/n_features, batch_size)\n",
        "        return means, data\n",
        "\n",
        "    elif scheme == \"polarized\":\n",
        "        data = 2 * rng.random((n_samples, n_features)) - 1\n",
        "        for i in range(len(data)):\n",
        "            polarization = rng.choice(pol-2) + 2\n",
        "            data[i] = np.sign(data[i]) * np.abs(data[i]) ** polarization\n",
        "            data[i][np.abs(data[i]) < pol_threshold] = 0\n",
        "        return data\n",
        "    else:\n",
        "        raise ValueError(\"unknown scheme\")\n",
        "\n",
        "def cosine_similarity(user, movie):\n",
        "    return np.dot(user, movie) / (np.linalg.norm(user) * np.linalg.norm(movie))\n",
        "\n",
        "def reward_func(user, movie):\n",
        "    \"\"\"return cosine similarity somewhat polarized, then scaled and shifted between 0 and 5\"\"\"\n",
        "    x = cosine_similarity(user, movie)\n",
        "    if x == -1:\n",
        "        return -1\n",
        "    x = 0.5 * (x + 1)\n",
        "    x = 1 / (1 + (((1-x)/x)**1.5))\n",
        "    return x * 2 - 1\n",
        "\n",
        "def get_rewards_matrix(users, movies, reward_f=reward_func):\n",
        "    n_users, n_movies = len(users), len(movies)\n",
        "    res = np.zeros((n_users, n_movies))\n",
        "    for i in range(n_users):\n",
        "        for j in range(n_movies):\n",
        "            res[i][j] = reward_f(users[i], movies[j])\n",
        "    return res\n",
        "\n",
        "def get_seen_matrix(n_users, n_movies, history):\n",
        "    res = np.zeros((n_users, n_movies))\n",
        "    for user_idx, movie_idx in history:\n",
        "        res[user_idx][movie_idx] = 1\n",
        "    return res"
      ],
      "execution_count": 0,
      "outputs": []
    },
    {
      "cell_type": "markdown",
      "metadata": {
        "id": "M4ZcqM7Inzzf",
        "colab_type": "text"
      },
      "source": [
        "## Environment"
      ]
    },
    {
      "cell_type": "code",
      "metadata": {
        "id": "llPtPYFmnzzn",
        "colab_type": "code",
        "colab": {}
      },
      "source": [
        "class Environment:\n",
        "    \n",
        "    def __init__(self, \n",
        "                 n_features=N_FEATURES, \n",
        "                 max_users=MAX_USERS,\n",
        "                 max_movies=MAX_MOVIES,\n",
        "                 n_users=N_USERS, \n",
        "                 n_movies=N_MOVIES,\n",
        "                 history=None, \n",
        "                 reward_f=reward_func, \n",
        "                 context_size=10,\n",
        "                 a=0.05,\n",
        "                 b=0.025,\n",
        "                 c=3,\n",
        "                 d=0,\n",
        "                 quit_prob_init=0.05,\n",
        "                 subscription_rate=20,\n",
        "                 seed=None):\n",
        "      \n",
        "        self.reset(n_features=n_features, max_users=max_users, \n",
        "                   max_movies=max_movies, n_users=n_users, n_movies=n_movies, \n",
        "                   history=history, reward_f=reward_f, \n",
        "                   context_size=context_size, a=a, b=b, c=c, d=d, \n",
        "                   quit_prob_init=quit_prob_init, \n",
        "                   subscription_rate=subscription_rate, seed=seed)\n",
        "        \n",
        "    def reset(self, n_features=N_FEATURES, max_users=MAX_USERS, \n",
        "              max_movies=MAX_MOVIES, n_users=N_USERS, n_movies=N_MOVIES, \n",
        "              history=None, reward_f=reward_func, context_size=10, \n",
        "              a=0.05, b=0.025, c=3, d=0, quit_prob_init=0.05, \n",
        "              subscription_rate=20, seed=None):\n",
        "        self.n_features = n_features\n",
        "        self.max_users = max_users\n",
        "        self.max_movies = max_movies\n",
        "        self.n_users = n_users\n",
        "        self.optimal_users = n_users\n",
        "        self.n_movies = n_movies\n",
        "        self.context_size = context_size\n",
        "        self.quit_prob_init = quit_prob_init\n",
        "        self.subscription_rate = subscription_rate\n",
        "        self.rng = np.random.default_rng(seed)\n",
        "\n",
        "        self.users = generate_data(max_users, n_features, self.rng, scheme=\"polarized\")\n",
        "        self.means, self.movies = generate_data(max_movies, n_features, self.rng, scheme=\"gauss\")\n",
        "        self.movies_with_noise = self.movies + self.rng.normal(0, 0.01, self.movies.shape)\n",
        "        self.rewards_matrix = get_rewards_matrix(self.users, self.movies, reward_f)\n",
        "        self.status_users = np.zeros(max_users)\n",
        "        self.status_movies = np.zeros(max_movies)\n",
        "        self.quit_probabilities = np.zeros(max_users) + quit_prob_init\n",
        "        self.init_status()\n",
        "\n",
        "        self.get_update_prob_coeff = lambda x : -a / (1 + np.exp(-(c*x-d))) + b\n",
        "        self.history = [] if history is None else history\n",
        "        self.seen_matrix = get_seen_matrix(self.max_users, self.max_movies, self.history)\n",
        "        self.step_count_tracker = 0\n",
        "    \n",
        "    def add_movie(self, movie_idx=None):\n",
        "        if movie_idx is None:\n",
        "            not_airing = np.nonzero(self.status_movies == 0)[0]\n",
        "            n = len(not_airing)\n",
        "            if n > 0:\n",
        "                self.status_movies[not_airing[self.rng.choice(n)]] = 1\n",
        "        else:\n",
        "            assert self.status_movies[movie_idx] == 0, \"trying to add a movie which is already airing\"\n",
        "            self.status_movies[movie_idx] = 1\n",
        "        self.n_movies += 1\n",
        "\n",
        "    def add_user(self, user_idx=None):\n",
        "        if user_idx is None:\n",
        "            not_subscribed = np.nonzero(self.status_users == 0)[0]\n",
        "            n = len(not_subscribed)\n",
        "            if n > 0:\n",
        "                user_idx = not_subscribed[self.rng.choice(n)]\n",
        "                self.status_users[user_idx] = 1\n",
        "                self.quit_probabilities[user_idx] = self.quit_prob_init\n",
        "        else:\n",
        "            assert self.status_users[user_idx] == 0, \"trying to add a user which is already subscribed\"\n",
        "            self.status_users[user_idx] = 1\n",
        "            self.quit_probabilities[user_idx] = self.quit_prob_init\n",
        "        self.n_users += 1\n",
        "        self.optimal_users += 1\n",
        "\n",
        "    def get_reward(self, user_idx, movie_idx, context):\n",
        "        \"\"\"returns a binary reward\"\"\"\n",
        "        reward = self.rewards_matrix[user_idx][movie_idx]\n",
        "        \n",
        "        # keep best choice consequences for regret computations\n",
        "        best_reward = np.max([self.rewards_matrix[user_idx][m_idx] for m_idx in context])\n",
        "        optimal_quit_prob = self.quit_probabilities[user_idx] + self.get_update_prob_coeff(best_reward)\n",
        "        optimal_quit_prob = max(0, min(1, optimal_quit_prob))\n",
        "        self.optimal_users -= optimal_quit_prob\n",
        "\n",
        "        self.update_probability(user_idx, reward)\n",
        "        self.update_quit(user_idx)\n",
        "\n",
        "        self.update_history(user_idx, movie_idx, reward, best_reward, self.n_users, self.optimal_users, context)\n",
        "\n",
        "        return 1 if reward > 0 else -1\n",
        "    \n",
        "    def get_next_step(self):\n",
        "        self.step_count_tracker += 1\n",
        "        if self.step_count_tracker % self.subscription_rate == 0:\n",
        "            self.add_user()\n",
        "        subscribed_users = np.nonzero(self.status_users == 1)[0]\n",
        "        if len(subscribed_users) == 0:\n",
        "            return -2, None\n",
        "        else:\n",
        "            user_permutation = self.rng.permutation(subscribed_users)\n",
        "            for user_idx in user_permutation:  # try until you can suggest a movie to a user\n",
        "                seen_movies = np.nonzero(self.seen_matrix[user_idx])[0]\n",
        "                airing_movies = np.nonzero(self.status_movies)[0]\n",
        "                available_movies = list(set(airing_movies) - set(seen_movies))\n",
        "                if len(available_movies) > 0:\n",
        "                    self.rng.shuffle(available_movies)\n",
        "                    context = available_movies[:self.context_size]\n",
        "                    return user_idx, context\n",
        "        # if the users have seen all the movies that are airing\n",
        "            return -1, None\n",
        "    \n",
        "    def init_status(self):\n",
        "        users_init = self.rng.choice(self.max_users, self.n_users, replace=False)\n",
        "        movies_init = self.rng.choice(self.max_movies, self.n_movies, replace=False)\n",
        "        self.status_users[users_init] = 1\n",
        "        self.status_movies[movies_init] = 1\n",
        "\n",
        "    def remove_movie(self, movie_idx=None, definitely=True):\n",
        "        new_status = -1 if definitely else 0  # -1 if definitely else 0\n",
        "        if movie_idx is None:\n",
        "            airing = np.nonzero(self.status_movies == 1)[0]\n",
        "            n = len(airing)\n",
        "            if n > 0:\n",
        "                self.status_movies[airing[self.rng.choice(n)]] = new_status\n",
        "        else:\n",
        "            assert self.status_movies[movie_idx] == 1, \"trying to remove a movie which is not airing\"\n",
        "            self.status_movies[movie_idx] = new_status\n",
        "        self.n_movies -= 1\n",
        "\n",
        "    def remove_user(self, user_idx=None, definitely=True):\n",
        "        new_status = -1 if definitely else 0  # -1 if definitely else 0\n",
        "        if user_idx is None:\n",
        "            subscribed = np.nonzero(self.status_users == 1)[0]\n",
        "            n = len(subscribed)\n",
        "            if n > 0:\n",
        "                self.status_users[subscribed[self.rng.choice(n)]] = new_status\n",
        "        else:\n",
        "            assert self.status_users[user_idx] == 1, \"trying to remove a user which is not subscribed\"\n",
        "            self.status_users[user_idx] = new_status\n",
        "        self.n_users -= 1\n",
        "\n",
        "    def update_history(self, user_idx, movie_idx, reward, best_reward, n_users, optimal_users, context):\n",
        "        self.history.append((user_idx, movie_idx, reward, best_reward, n_users, optimal_users, context))\n",
        "        self.seen_matrix[user_idx][movie_idx] = 1\n",
        "\n",
        "    def update_probability(self, user_idx, reward):\n",
        "        self.quit_probabilities[user_idx] += self.get_update_prob_coeff(reward)\n",
        "        self.quit_probabilities[user_idx] = max(0, min(1, self.quit_probabilities[user_idx]))\n",
        "    \n",
        "    def update_quit(self, user_idx):\n",
        "      \"\"\"updates the available users list by generating either 0 (not quit) or (1 quit) using the probability that the user will quit\"\"\"\n",
        "      will_quit = self.rng.binomial(1, self.quit_probabilities[user_idx])\n",
        "      if will_quit:\n",
        "        self.remove_user(user_idx)"
      ],
      "execution_count": 0,
      "outputs": []
    },
    {
      "cell_type": "markdown",
      "metadata": {
        "id": "tfjSCSDunzz1",
        "colab_type": "text"
      },
      "source": [
        "## Agents"
      ]
    },
    {
      "cell_type": "code",
      "metadata": {
        "id": "s8PyBWiynzz5",
        "colab_type": "code",
        "colab": {}
      },
      "source": [
        "class RandomAgent:\n",
        "    \n",
        "    def __init__(self, seed=None):\n",
        "        self.rng = np.random.default_rng(seed)\n",
        "        self.agent_history = []\n",
        "    \n",
        "    def recommend(self, user_idx, context):\n",
        "        return context[self.rng.choice(len(context))]\n",
        "\n",
        "    def update_history(self, user_idx, movie_idx, reward, context):\n",
        "        \"\"\" updating history for the future decisions of the agent \"\"\"\n",
        "        self.agent_history.append([user_idx, movie_idx, reward, context])"
      ],
      "execution_count": 0,
      "outputs": []
    },
    {
      "cell_type": "code",
      "metadata": {
        "id": "bxwxPQpgu_d0",
        "colab_type": "code",
        "colab": {}
      },
      "source": [
        "class EpsilonGreedyAgent:\n",
        "    \"\"\" Epsilon greedy agent. \"\"\"\n",
        "\n",
        "    def __init__(self, \n",
        "                 movies_with_noise,\n",
        "                 at_start_exploration_iters=10, \n",
        "                 lr=.1, \n",
        "                 epsilon=0,\n",
        "                 seed=None):\n",
        "        self._movies_with_noise = movies_with_noise\n",
        "        self.at_start_exploration_iters = at_start_exploration_iters\n",
        "        self._epsilon = epsilon\n",
        "        self._rng = np.random.default_rng(seed)\n",
        "        self.agent_history = []\n",
        "        \n",
        "    def recommend(self, user_idx, context):\n",
        "        if(len(self.agent_history) < self.at_start_exploration_iters) or self._rng.random() < self._epsilon: # exploration at start and building some history\n",
        "          recommended_movie = context[self._rng.choice(len(context))]\n",
        "        else: # maxing based on similarity with the already known movies\n",
        "        # checking if the user already has noted a movie:\n",
        "            already_rated_users = [h[0] for h in self.agent_history]\n",
        "            if user_idx in already_rated_users: # if the user already exists\n",
        "                user_movies = [h for h in self.agent_history if h[0] == user_idx]\n",
        "                self._rng.shuffle(user_movies)\n",
        "                best_reward = np.argmax([x[2] for x in user_movies])\n",
        "                best_movie_idx = user_movies[best_reward][1]\n",
        "                reward_pred = self.similarities(best_movie_idx, context)\n",
        "                recommended_movie = context[np.argmax(reward_pred)]  # the action is the index of the chosen movie\n",
        "            else: # if we don't know anything yet about the user we select randomly\n",
        "                recommended_movie = context[self._rng.choice(len(context))]\n",
        "        return recommended_movie\n",
        "\n",
        "    def similarities(self, best_movie_idx, context):\n",
        "      return [self.similarity(self._movies_with_noise[best_movie_idx], self._movies_with_noise[movie_idx]) for movie_idx in context]\n",
        "\n",
        "    def similarity(self, item1, item2):\n",
        "      return np.dot(item1, item2) / (np.linalg.norm(item1) * np.linalg.norm(item2))\n",
        "    \n",
        "    def update_history(self, user_idx, movie_idx, reward, context):\n",
        "        \"\"\" updating history for the future decisions of the agent \"\"\"\n",
        "        self.agent_history.append([user_idx, movie_idx, reward, context])"
      ],
      "execution_count": 0,
      "outputs": []
    },
    {
      "cell_type": "code",
      "metadata": {
        "id": "MnzQnnCZYx6E",
        "colab_type": "code",
        "colab": {}
      },
      "source": [
        "env = Environment(seed=42)"
      ],
      "execution_count": 0,
      "outputs": []
    },
    {
      "cell_type": "code",
      "metadata": {
        "id": "6cJ4sRe2nz0Z",
        "colab_type": "code",
        "colab": {}
      },
      "source": [
        "def run_exp(env, agent_type=\"random\", horizon=1000, should_reset=True, seed=None):\n",
        "    if should_reset:\n",
        "        env.reset(seed=seed)\n",
        "    if agent_type == \"Random\":\n",
        "        agent = RandomAgent(seed=seed)\n",
        "    elif agent_type == \"EG\":\n",
        "        agent = EpsilonGreedyAgent(env.movies_with_noise, seed=seed)\n",
        "    elif agent_type == \"DL\":\n",
        "        agent = DLAgent(model=triplet_model, seed=seed)\n",
        "    else:\n",
        "        raise ValueError(\"agent_type unknown\")\n",
        "    for i in range(horizon):\n",
        "        user_idx, context = env.get_next_step()\n",
        "        if user_idx == -2:\n",
        "            break\n",
        "        elif user_idx != -1:\n",
        "            movie_idx = agent.recommend(user_idx, context)\n",
        "            reward = env.get_reward(user_idx, movie_idx, context)\n",
        "            agent.update_history(user_idx, movie_idx, reward, context)\n",
        "    n_users = [h[4] for h in env.history]\n",
        "    optimal_users = [h[5] for h in env.history]\n",
        "    cum_regrets = [h[5] - h[4] for h in env.history]\n",
        "    return cum_regrets, n_users, optimal_users, env.history"
      ],
      "execution_count": 0,
      "outputs": []
    },
    {
      "cell_type": "code",
      "metadata": {
        "id": "_T7Q-e53nz0s",
        "colab_type": "code",
        "colab": {}
      },
      "source": [
        "cum_regretsRandom, n_usersRandom, optimal_usersRandom, _ = run_exp(env, agent_type=\"Random\", horizon=1000, seed=None)\n",
        "cum_regretsEG, n_usersEG, optimal_usersEG, _ = run_exp(env, agent_type=\"EG\", horizon=1000, seed=None)"
      ],
      "execution_count": 0,
      "outputs": []
    },
    {
      "cell_type": "code",
      "metadata": {
        "id": "TQWBeEWZ8sdK",
        "colab_type": "code",
        "outputId": "9a4dcce2-34ba-4b87-f789-7868115fe467",
        "colab": {
          "base_uri": "https://localhost:8080/",
          "height": 281
        }
      },
      "source": [
        "plt.plot(cum_regretsEG, label='EG')\n",
        "plt.plot(cum_regretsRandom, label='Random')\n",
        "plt.legend(('Epsilon-Greedy-Agent', 'Random-Agent'),loc='upper right')\n",
        "plt.title(\"Regrets\")\n",
        "plt.show()"
      ],
      "execution_count": 26,
      "outputs": [
        {
          "output_type": "display_data",
          "data": {
            "image/png": "[encoded data removed]",
            "text/plain": [
              "<Figure size 432x288 with 1 Axes>"
            ]
          },
          "metadata": {
            "tags": []
          }
        }
      ]
    },
    {
      "cell_type": "code",
      "metadata": {
        "id": "5x7LxKNB8uCJ",
        "colab_type": "code",
        "outputId": "41a09e7a-8ab1-4a90-ee34-0e0d541b617c",
        "colab": {
          "base_uri": "https://localhost:8080/",
          "height": 281
        }
      },
      "source": [
        "plt.plot(n_usersEG, label='n_users', c=\"orange\")\n",
        "plt.plot(optimal_usersEG, label='optimal_users', c=\"blue\")\n",
        "plt.legend()\n",
        "plt.title('EG')\n",
        "plt.show()"
      ],
      "execution_count": 27,
      "outputs": [
        {
          "output_type": "display_data",
          "data": {
            "image/png": "[encoded data removed]",
            "text/plain": [
              "<Figure size 432x288 with 1 Axes>"
            ]
          },
          "metadata": {
            "tags": []
          }
        }
      ]
    },
    {
      "cell_type": "code",
      "metadata": {
        "id": "-ngJ5wHsJtEK",
        "colab_type": "code",
        "outputId": "5c8badac-b5ad-4198-c6c8-10479729278c",
        "colab": {
          "base_uri": "https://localhost:8080/",
          "height": 281
        }
      },
      "source": [
        "plt.plot(n_usersRandom, label='n_users', c=\"orange\")\n",
        "plt.plot(optimal_usersRandom, label='optimal_users', c=\"blue\")\n",
        "plt.legend()\n",
        "plt.title('Random')\n",
        "plt.show()"
      ],
      "execution_count": 29,
      "outputs": [
        {
          "output_type": "display_data",
          "data": {
            "image/png": "[encoded data removed]",
            "text/plain": [
              "<Figure size 432x288 with 1 Axes>"
            ]
          },
          "metadata": {
            "tags": []
          }
        }
      ]
    },
    {
      "cell_type": "markdown",
      "metadata": {
        "id": "fZE3b3j_he5M",
        "colab_type": "text"
      },
      "source": [
        "### The model of the DL agent:\n",
        "based on the triplet loss model of the implicit feedback"
      ]
    },
    {
      "cell_type": "code",
      "metadata": {
        "id": "bxdLQvHwcEz5",
        "colab_type": "code",
        "colab": {
          "base_uri": "https://localhost:8080/",
          "height": 63
        },
        "outputId": "3bf4b14a-d9e9-431f-9997-88e5ab631872"
      },
      "source": [
        "import tensorflow as tf\n",
        "from tensorflow.keras import layers\n",
        "\n",
        "\n",
        "def identity_loss(y_true, y_pred):\n",
        "    \"\"\"Ignore y_true and return the mean of y_pred\n",
        "    \n",
        "    This is a hack to work-around the design of the Keras API that is\n",
        "    not really suited to train networks with a triplet loss by default.\n",
        "    \"\"\"\n",
        "    return tf.reduce_mean(y_pred)\n",
        "\n",
        "\n",
        "class MarginLoss(layers.Layer):\n",
        "\n",
        "    def __init__(self, margin=1.):\n",
        "        super().__init__()\n",
        "        self.margin = margin\n",
        "        \n",
        "    def call(self, inputs):\n",
        "        pos_pair_similarity = inputs[0]\n",
        "        neg_pair_similarity = inputs[1]\n",
        "        \n",
        "        diff = neg_pair_similarity - pos_pair_similarity\n",
        "        return tf.maximum(diff + self.margin, 0.)"
      ],
      "execution_count": 13,
      "outputs": [
        {
          "output_type": "display_data",
          "data": {
            "text/html": [
              "<p style=\"color: red;\">\n",
              "The default version of TensorFlow in Colab will soon switch to TensorFlow 2.x.<br>\n",
              "We recommend you <a href=\"https://www.tensorflow.org/guide/migrate\" target=\"_blank\">upgrade</a> now \n",
              "or ensure your notebook will continue to use TensorFlow 1.x via the <code>%tensorflow_version 1.x</code> magic:\n",
              "<a href=\"https://colab.research.google.com/notebooks/tensorflow_version.ipynb\" target=\"_blank\">more info</a>.</p>\n"
            ],
            "text/plain": [
              "<IPython.core.display.HTML object>"
            ]
          },
          "metadata": {
            "tags": []
          }
        }
      ]
    },
    {
      "cell_type": "code",
      "metadata": {
        "id": "lPq1cj_6bRJe",
        "colab_type": "code",
        "colab": {
          "base_uri": "https://localhost:8080/",
          "height": 88
        },
        "outputId": "6bfe9919-e2cd-4f50-82db-930b0b85edba"
      },
      "source": [
        "from tensorflow.keras.models import Model\n",
        "from tensorflow.keras.layers import Embedding, Flatten, Input, Dense\n",
        "from tensorflow.keras.layers import Lambda, Dot\n",
        "from tensorflow.keras.regularizers import l2\n",
        "\n",
        "\n",
        "class TripletModel(Model):\n",
        "    def __init__(self, n_users, n_items, latent_dim=32,\n",
        "                 l2_reg=None, margin=1.):\n",
        "        super().__init__(name=\"TripletModel\")\n",
        "        \n",
        "        self.margin = margin\n",
        "        \n",
        "        l2_reg = None if l2_reg == 0 else l2(l2_reg)\n",
        "\n",
        "        self.user_layer = Embedding(n_users, latent_dim,\n",
        "                                    input_length=1,\n",
        "                                    input_shape=(1,),\n",
        "                                    name='user_embedding',\n",
        "                                    embeddings_regularizer=l2_reg)\n",
        "    \n",
        "        # The following embedding parameters will be shared to\n",
        "        # encode both the positive and negative items.\n",
        "        self.item_layer = Embedding(n_items, latent_dim,\n",
        "                                    input_length=1,\n",
        "                                    name=\"item_embedding\",\n",
        "                                    embeddings_regularizer=l2_reg)\n",
        "        \n",
        "        # The 2 following layers are without parameters, and can\n",
        "        # therefore be used for both positive and negative items.\n",
        "        self.flatten = Flatten()\n",
        "        self.dot = Dot(axes=1, normalize=True)\n",
        "        self.margin_loss = MarginLoss(margin)\n",
        "        \n",
        "    def call(self, inputs, training=False):\n",
        "        user_input = inputs[0]\n",
        "        pos_item_input = inputs[1]\n",
        "        neg_item_input = inputs[2]\n",
        "        \n",
        "        user_embedding = self.user_layer(user_input)\n",
        "        user_embedding = self.flatten(user_embedding)\n",
        "        \n",
        "        pos_item_embedding = self.item_layer(pos_item_input)\n",
        "        pos_item_embedding = self.flatten(pos_item_embedding)\n",
        "        \n",
        "        neg_item_embedding = self.item_layer(neg_item_input)\n",
        "        neg_item_embedding = self.flatten(neg_item_embedding)\n",
        "        \n",
        "        # Similarity computation between embeddings\n",
        "        pos_similarity = self.dot([user_embedding, pos_item_embedding])\n",
        "        neg_similarity = self.dot([user_embedding, neg_item_embedding])\n",
        "                \n",
        "        return self.margin_loss([pos_similarity, neg_similarity])\n",
        "    \n",
        "\n",
        "triplet_model = TripletModel(n_users=MAX_USERS+1, n_items=MAX_MOVIES+1,\n",
        "                             latent_dim=64, l2_reg=1e-6)"
      ],
      "execution_count": 14,
      "outputs": [
        {
          "output_type": "stream",
          "text": [
            "WARNING:tensorflow:From /usr/local/lib/python3.6/dist-packages/tensorflow_core/python/keras/initializers.py:119: calling RandomUniform.__init__ (from tensorflow.python.ops.init_ops) with dtype is deprecated and will be removed in a future version.\n",
            "Instructions for updating:\n",
            "Call initializer instance with the dtype argument instead of passing it to the constructor\n"
          ],
          "name": "stdout"
        }
      ]
    },
    {
      "cell_type": "markdown",
      "metadata": {
        "id": "K3NswaUQhkZD",
        "colab_type": "text"
      },
      "source": [
        "### training for the deep agent:\n"
      ]
    },
    {
      "cell_type": "code",
      "metadata": {
        "id": "YwjfbyUnbvxe",
        "colab_type": "code",
        "colab": {}
      },
      "source": [
        "env.reset(seed=42)"
      ],
      "execution_count": 0,
      "outputs": []
    },
    {
      "cell_type": "code",
      "metadata": {
        "id": "qF73O0VUb_A3",
        "colab_type": "code",
        "colab": {}
      },
      "source": [
        "agentRandom = RandomAgent()"
      ],
      "execution_count": 0,
      "outputs": []
    },
    {
      "cell_type": "code",
      "metadata": {
        "id": "9hn6mRQzhoVo",
        "colab_type": "code",
        "colab": {}
      },
      "source": [
        "def generate_data_for_NN(env,agent,iters=1000,seed=None):\n",
        "  \"\"\"generates data to trail the model of the DL agent \"\"\"\n",
        "  data=[]\n",
        "  for i in range(iters):\n",
        "    user_idx, context = env.get_next_step()\n",
        "    if user_idx == -2:\n",
        "            break\n",
        "    elif user_idx != -1:\n",
        "            movie_idx = agent.recommend(user_idx, context)\n",
        "            reward = env.get_reward(user_idx, movie_idx, context)\n",
        "            agent.update_history(user_idx, movie_idx, reward, context)\n",
        "            data.append([user_idx,movie_idx,reward])\n",
        "  return data\n",
        "def get_pos_data(data):\n",
        "  pos_data=[d  for d in data if d[2] > 0]\n",
        "  return pos_data"
      ],
      "execution_count": 0,
      "outputs": []
    },
    {
      "cell_type": "code",
      "metadata": {
        "id": "p7kcyFlhq96I",
        "colab_type": "code",
        "colab": {}
      },
      "source": [
        "generated_NN_training_data=generate_data_for_NN(env,agentRandom,iters=10000,seed=None) #10000 is equivalent to 3.33% of the possible User x Movie\n",
        "pos_data_train=get_pos_data(generated_NN_training_data)"
      ],
      "execution_count": 0,
      "outputs": []
    },
    {
      "cell_type": "code",
      "metadata": {
        "id": "38LWHxAiuXLG",
        "colab_type": "code",
        "colab": {}
      },
      "source": [
        "# pos_data_test=get_pos_data(generate_data_for_NN(env,agentRandom,iters=100,seed=None))"
      ],
      "execution_count": 0,
      "outputs": []
    },
    {
      "cell_type": "code",
      "metadata": {
        "id": "Q58UH4B9hF5g",
        "colab_type": "code",
        "colab": {}
      },
      "source": [
        "# training the triplet model\n",
        "def sample_triplets(pos_data, max_item_id=1000, random_seed=0):\n",
        "    \"\"\"Sample negatives at random\"\"\"\n",
        "    rng = np.random.RandomState(random_seed)\n",
        "    user_ids = np.asarray([d[0] for d in pos_data])\n",
        "    pos_item_ids = np.asarray([d[1] for d in pos_data])\n",
        "\n",
        "    neg_item_ids = rng.randint(low=1, high=max_item_id + 1,\n",
        "                               size=len(user_ids))\n",
        "\n",
        "    return [user_ids, pos_item_ids, neg_item_ids]"
      ],
      "execution_count": 0,
      "outputs": []
    },
    {
      "cell_type": "code",
      "metadata": {
        "id": "HVQ2euJfhK89",
        "colab_type": "code",
        "outputId": "3c2726e7-4efe-4d0c-9d64-0c1f8024534c",
        "colab": {
          "base_uri": "https://localhost:8080/",
          "height": 391
        }
      },
      "source": [
        "# we plug the identity loss and the a fake target variable ignored by\n",
        "# the model to be able to use the Keras API to train the triplet model\n",
        "fake_y = np.ones_like([d[0] for d in pos_data_train])\n",
        "triplet_model.compile(loss=identity_loss, optimizer=\"adam\")\n",
        "\n",
        "n_epochs = 10\n",
        "batch_size = 64\n",
        "triplet_inputs = sample_triplets(pos_data_train, max_item_id=1000,\n",
        "                                     random_seed=None)\n",
        "triplet_model.fit(x=triplet_inputs, y=fake_y, shuffle=True,\n",
        "                      batch_size=64, epochs=10)"
      ],
      "execution_count": 35,
      "outputs": [
        {
          "output_type": "stream",
          "text": [
            "Train on 5361 samples\n",
            "Epoch 1/10\n",
            "5361/5361 [==============================] - 0s 73us/sample - loss: 0.7319\n",
            "Epoch 2/10\n",
            "5361/5361 [==============================] - 0s 36us/sample - loss: 0.1681\n",
            "Epoch 3/10\n",
            "5361/5361 [==============================] - 0s 42us/sample - loss: 0.0991\n",
            "Epoch 4/10\n",
            "5361/5361 [==============================] - 0s 41us/sample - loss: 0.0806\n",
            "Epoch 5/10\n",
            "5361/5361 [==============================] - 0s 38us/sample - loss: 0.0735\n",
            "Epoch 6/10\n",
            "5361/5361 [==============================] - 0s 39us/sample - loss: 0.0686\n",
            "Epoch 7/10\n",
            "5361/5361 [==============================] - 0s 37us/sample - loss: 0.0641\n",
            "Epoch 8/10\n",
            "5361/5361 [==============================] - 0s 37us/sample - loss: 0.0609\n",
            "Epoch 9/10\n",
            "5361/5361 [==============================] - 0s 40us/sample - loss: 0.0582\n",
            "Epoch 10/10\n",
            "5361/5361 [==============================] - 0s 37us/sample - loss: 0.0559\n"
          ],
          "name": "stdout"
        },
        {
          "output_type": "execute_result",
          "data": {
            "text/plain": [
              "<tensorflow.python.keras.callbacks.History at 0x7f4d38f70940>"
            ]
          },
          "metadata": {
            "tags": []
          },
          "execution_count": 35
        }
      ]
    },
    {
      "cell_type": "code",
      "metadata": {
        "id": "_4YbS_ra6RP-",
        "colab_type": "code",
        "colab": {
          "base_uri": "https://localhost:8080/",
          "height": 34
        },
        "outputId": "4b508bca-fa13-494b-dd61-83a4f1fe1cf1"
      },
      "source": [
        "from keras.models import load_model\n",
        "\n",
        "class DLAgent():\n",
        "  def __init__(self, model,seed=None):\n",
        "    self.model=model\n",
        "    self._current_triplet=None\n",
        "  def recommend(self,user_idx,context):\n",
        "    # since the model takes as input a triplet we will generate the triplets from the context(available movies indices)\n",
        "    user_ids=np.asarray([user_idx for i in range(len(context))])\n",
        "    pos_items=np.asarray(context)\n",
        "    neg_items=np.asarray([context[i-1] for i in range(len(context))])  # generating the neg item by doing a circular rotation so we dont have the same movie as pos and neg\n",
        "    triplets=[user_ids,pos_items,neg_items]\n",
        "    pred_rewards=self.model.predict(triplets)\n",
        "    index=np.argmax(pred_rewards)\n",
        "    self._current_triplet=[np.asarray([user_idx]),np.asarray([pos_items[index]]),np.asarray([neg_items[index]])]\n",
        "    return pos_items[index]\n",
        "\n",
        "  def update_history(self, user_idx, movie_idx, reward, context):\n",
        "    if reward > 0:\n",
        "      # self.model.save_weights('weights.h5') \n",
        "      # self.model.load_weights('weights.h5')\n",
        "      self.model.fit(self._current_triplet)"
      ],
      "execution_count": 36,
      "outputs": [
        {
          "output_type": "stream",
          "text": [
            "Using TensorFlow backend.\n"
          ],
          "name": "stderr"
        }
      ]
    },
    {
      "cell_type": "code",
      "metadata": {
        "id": "aMrAPEcatBYZ",
        "colab_type": "code",
        "colab": {}
      },
      "source": [
        "# triplet_model.predict(item)"
      ],
      "execution_count": 0,
      "outputs": []
    },
    {
      "cell_type": "code",
      "metadata": {
        "id": "yem9y9Ql4Kfv",
        "colab_type": "code",
        "colab": {}
      },
      "source": [
        "cum_regretsDL, n_usersDL, optimal_usersDL, _ = run_exp(env, agent_type=\"DL\", horizon=1000, seed=42)"
      ],
      "execution_count": 0,
      "outputs": []
    },
    {
      "cell_type": "code",
      "metadata": {
        "id": "aW_9N9G4E8Wd",
        "colab_type": "code",
        "outputId": "272bed17-a70c-44a2-9897-69fff3c6e131",
        "colab": {
          "base_uri": "https://localhost:8080/",
          "height": 281
        }
      },
      "source": [
        "plt.plot(cum_regretsDL, label='DL')\n",
        "plt.plot(cum_regretsEG, label='EG')\n",
        "plt.plot(cum_regretsRandom, label='Random')\n",
        "plt.legend(('Deep-Learning-Agent','Epsilon-Greedy-Agent', 'Random-Agent'),loc='upper right')\n",
        "plt.title(\"Regrets\")\n",
        "plt.show()"
      ],
      "execution_count": 41,
      "outputs": [
        {
          "output_type": "display_data",
          "data": {
            "image/png": "[encoded data removed]",
            "text/plain": [
              "<Figure size 432x288 with 1 Axes>"
            ]
          },
          "metadata": {
            "tags": []
          }
        }
      ]
    },
    {
      "cell_type": "code",
      "metadata": {
        "id": "IdDVodH7FMh0",
        "colab_type": "code",
        "outputId": "fb747d84-8ce2-476e-a82b-d73645672ef9",
        "colab": {
          "base_uri": "https://localhost:8080/",
          "height": 281
        }
      },
      "source": [
        "plt.plot(n_usersDL, label='n_users', c=\"orange\")\n",
        "plt.plot(optimal_usersDL, label='optimal_users', c=\"blue\")\n",
        "plt.legend()\n",
        "plt.title('DL')\n",
        "plt.show()"
      ],
      "execution_count": 44,
      "outputs": [
        {
          "output_type": "display_data",
          "data": {
            "image/png": "[encoded data removed]",
            "text/plain": [
              "<Figure size 432x288 with 1 Axes>"
            ]
          },
          "metadata": {
            "tags": []
          }
        }
      ]
    }
  ]
}